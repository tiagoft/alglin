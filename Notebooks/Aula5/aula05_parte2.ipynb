{
 "cells": [
  {
   "cell_type": "markdown",
   "id": "61f092e0",
   "metadata": {},
   "source": [
    "# Analisando transformadas com auto-valores e auto-vetores\n",
    "\n",
    "Este capítulo está ligado ao seguintes objetivos didáticos do curos:\n",
    "1. Interpretar e analisar transformações lineares\n",
    "1. Aplicar a decomposição em valores singulares\n",
    "\n",
    "Referências bibliográficas:\n",
    "\n",
    "[Jim Hefferon - Linear Algebra - 4th Edition](https://hefferon.net/linearalgebra/) - Chap. Five, II.3\n",
    "\n",
    "[Philip N. Klein - Coding the Matrix - 1st Edition](https://codingthematrix.com/) - Chap. 11-12"
   ]
  },
  {
   "cell_type": "code",
   "execution_count": null,
   "id": "d1f49b4e",
   "metadata": {},
   "outputs": [],
   "source": [
    "import numpy as np\n",
    "import matplotlib.pyplot as plt"
   ]
  },
  {
   "cell_type": "markdown",
   "id": "a56ff6aa",
   "metadata": {},
   "source": [
    "# Aula 5"
   ]
  },
  {
   "cell_type": "markdown",
   "id": "8af44109",
   "metadata": {},
   "source": [
    "# Parte 2\n",
    "\n",
    "*Objetivo: usar autovalores e autovetores para interpretar sistemas lineares*"
   ]
  },
  {
   "cell_type": "markdown",
   "id": "8a724873",
   "metadata": {},
   "source": [
    "## Exercício 1\n",
    "\n",
    "Um modelo que existe na macroeconomia é o de dividir a economia em setores, e entender como cada um influencia o outro. Por exemplo, na Cidade Perdida de Autovetória, existiam três setores: o primário (extrativismo, agropecuária, etc.), o secundário (envolvendo comércio e indústria) e o terciário (serviços). Cada Cruzeiro de Autovetória (C$) no setor primário em um determinado ano gerava meio C$ em cada um dos três setores no ano seguinte. Cada C$ no setor secundário gerava dez centavos no próprio setor secundário, mais dez centavos no setor terciário no ano seguinte. Cada C$ investido no setor de serviços revertia em $1.1$ C$ em cada um dos três setores.\n",
    "\n",
    "(a) Escreva as esquações que permitem calcular o valor de cada setor da economia de Autovetória em um ano com base nos seus valores do ano anterior.\n",
    "\n",
    "(b) Escreva as equações do ítem (a) na forma matricial.\n",
    "\n",
    "(c) Encontre (usando Python) os autovalores e autovetores da matriz de dinâmicas que você encontrou no ítem (a)\n",
    "\n",
    "(d) A economia de Autovetória fica estável, colapsa, ou explode?\n",
    "\n",
    "(e) Qual é o setor mais relevante da economia de Autovetória, no longo prazo?"
   ]
  },
  {
   "cell_type": "markdown",
   "id": "0675dad9",
   "metadata": {},
   "source": [
    "## Exercício 2\n",
    "\n",
    "Os alquimistas de Autovetória estão testando uma nova fórmula para fazer slime. Eles usam os componentes Xistônio, Yanoreto e Zaparídio. Eles observam que as misturas desses componentes têm comportamento linear, e que:\n",
    "\n",
    "1. Ao misturar partes iguais de cada componente, a mistura fica estável e nenhum dos componentes se altera,\n",
    "2. Quando misturam 3 partes de Xistônio para 1 de Yanoreto e 1 de Zaparídio, 10% da mistura desaparece a cada hora\n",
    "3. Quando Yanoreto é deixado sozinho, sem nenhuma mistura, ele absorve componentes do ar aumentando sua massa em 20% a cada hora.\n",
    "\n",
    "Encontre a equação que permite calcular a quantidade de cada componente na mistura em uma determinada hora, tomando por base as quantidades existentes na hora anterior."
   ]
  },
  {
   "cell_type": "markdown",
   "id": "183ef796",
   "metadata": {},
   "source": [
    "## Exercício 3\n",
    "\n",
    "Um autômato probabilístico pode ser modelado à partir de sua matriz de transição, a exemplo do que fizemos com o surfista aleatório no algoritmo PageRank.\n",
    "\n",
    "(a) Suponha um grafo de conexões probabilísticas com probabilidades de transição arbitrária. Use 3 vértices e quantas arestas achar necessário.\n",
    "\n",
    "(b) Encontre a matriz de transições $A$ de tal forma que ela possa ser usada para calcular a probabilidade de estar num determinado vértice na iteração $t+1$, sabendo das probabilidades de estarmos em cada vértice na iteração $t$, isto é: $x_{t+1} = A x_t$.\n",
    "\n",
    "(c) Encontre os autovalores e autovetores da matriz $A$.\n",
    "\n",
    "(d) Qual é o valor do maior autovalor de $A$? Qual é o seu autovetor relacionado?\n",
    "\n",
    "(e) Como sua resposta do ítem (d) permite prever o resultado de $A^N$, para $N \\rightarrow \\infty$?\n",
    "\n",
    "(f) Interprete a frase: \"O algoritmo PageRank calculou o auto-vetor mais valioso da história\""
   ]
  },
  {
   "cell_type": "markdown",
   "id": "ccb57b1e",
   "metadata": {},
   "source": [
    "## Exercício 4\n",
    "\n",
    "A animação abaixo funciona calculando novas posições para cada ponto usando uma transformação linear $A$ a cada frame. Essa transformação é recalculada de acordo com a posição do mouse. Deixe o mouse parado em alguma posição e, à partir de observar as dinâmicas, encontre a direção do autovetor de $A$ cujo autovalor associado é 1. Após, encontre a direção do autovetor de $A$ cujo autovalor associado é menor que 1.\n",
    "\n",
    "<iframe src=\"https://openprocessing.org/sketch/1921879/embed/\" width=\"500\" height=\"500\"></iframe>"
   ]
  },
  {
   "cell_type": "markdown",
   "id": "cf87e70c",
   "metadata": {},
   "source": [
    "## Exercício 5\n",
    "\n",
    "Monte uma matriz cujos autovalores são:\n",
    "\n",
    "$$\n",
    "x_1 = \\begin{bmatrix} 5\\\\6\\\\7\\\\8 \\end{bmatrix} \\hspace{1cm} x_2 = \\begin{bmatrix} 1\\\\2\\\\1\\\\2 \\end{bmatrix} \\hspace{1cm} x_3 = \\begin{bmatrix} 0\\\\1\\\\-1\\\\0 \\end{bmatrix} \\hspace{1cm} x_4 = \\begin{bmatrix} 0\\\\0\\\\0\\\\1 \\end{bmatrix} \\hspace{1cm}\n",
    "$$\n",
    "\n",
    "e os autovalores relacionados são:\n",
    "\n",
    "$$\n",
    "\\begin{bmatrix} \\lambda _1 \\\\ \\lambda _2 \\\\ \\lambda _3 \\\\ \\lambda _4 \\end{bmatrix} = \\begin{bmatrix} 0.1 \\\\ 0.2 \\\\ 0.5 \\\\ 2 \\end{bmatrix}\n",
    "$$"
   ]
  },
  {
   "cell_type": "markdown",
   "id": "8c68f69e",
   "metadata": {},
   "source": [
    "## Exercício 6\n",
    "\n",
    "O número de condicionamento de uma matriz é igual a $c=\\frac{\\lambda _1}{\\lambda _N}$, onde $\\lambda _1$ é o maior autovalor (em módulo) da matriz, e $\\lambda _N$ é o menor autovalor. Um número de condicionamento próximo de $1$ indica que a matriz provavelmente não levará a problemas numéricos ao ser invertida, ao passo que um número de condicionamento muito grande indica que a inversão da matriz pode levar a sistemas instáveis.\n",
    "\n",
    "Calcule o número de condicionamento da matriz $A$ definida no código abaixo."
   ]
  },
  {
   "cell_type": "code",
   "execution_count": 6,
   "id": "be3eb24d",
   "metadata": {},
   "outputs": [],
   "source": [
    "import numpy as np\n",
    "import matplotlib.pyplot as plt\n",
    "k=3\n",
    "A = np.random.normal(0,1,(k,k))\n",
    "w, v = np.linalg.eig(A)"
   ]
  },
  {
   "cell_type": "markdown",
   "id": "9ede7370",
   "metadata": {},
   "source": []
  }
 ],
 "metadata": {
  "kernelspec": {
   "display_name": "alglin (3.13.2)",
   "language": "python",
   "name": "python3"
  },
  "language_info": {
   "codemirror_mode": {
    "name": "ipython",
    "version": 3
   },
   "file_extension": ".py",
   "mimetype": "text/x-python",
   "name": "python",
   "nbconvert_exporter": "python",
   "pygments_lexer": "ipython3",
   "version": "3.13.2"
  }
 },
 "nbformat": 4,
 "nbformat_minor": 5
}
