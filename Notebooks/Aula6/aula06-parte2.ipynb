{
 "cells": [
  {
   "cell_type": "code",
   "execution_count": 23,
   "id": "10a23769",
   "metadata": {},
   "outputs": [],
   "source": [
    "import numpy as np\n",
    "import autograd.numpy as np_\n",
    "from autograd import grad\n",
    "import matplotlib.pyplot as plt"
   ]
  },
  {
   "cell_type": "markdown",
   "id": "680cb136",
   "metadata": {},
   "source": [
    "## Exercício 1\n",
    "**Objetivo: entender e usar uma formulação matricial para a regressão linear**\n",
    "\n",
    "Até o momento, a função que executamos para o problema de aproximação de dados:\n",
    "\n",
    "$$\n",
    "f(x) = \\hat{y} = ax + b.\n",
    "$$\n",
    "\n",
    "Quando fazemos a regressão linear, estamos assumindo que existem várias medições $(x_i, y_i)$. Cada uma dessas medições é diferente do valor estimado, isto é:\n",
    "\n",
    "$$\n",
    "e_i = y_i - \\hat{y}_i\n",
    "$$\n",
    "\n",
    "A média do quadrado dessa diferença pode ser calculada ao longo das $n$ medições que fizermos:\n",
    "\n",
    "$$\n",
    "\\text{EQM} = \\frac{1}{n} \\sum_{i=1}^n ||e_i||^2.\n",
    "$$\n",
    "\n",
    "Isso é uma maneira absolutamente válida de pensar. Porém, vamos agora transportar essa formulação para usar matrizes, e em depois verificaremos como isso pode nos ajudar.\n",
    "\n",
    "Veja, poderíamos escrever nossa função $f(x)$ assumindo que a entrada é um vetor de medidas $x_i$. Daí, ficaríamos com:\n",
    "\n",
    "$$\n",
    "\\begin{array}{rl}\n",
    "f(\\boldsymbol{x}) &= a \\boldsymbol{x} + b \n",
    "= \\begin{bmatrix} x_1 \\\\ x_2 \\\\ \\vdots \\\\ x_n \\end{bmatrix} \\begin{bmatrix} a \\end{bmatrix} + b\n",
    "=  \\begin{bmatrix} x_1 & 1 \\\\ x_2 & 1 \\\\ \\vdots & \\vdots \\\\ x_n & 1  \\end{bmatrix} \\begin{bmatrix} a \\\\ b \\end{bmatrix} \n",
    "= \\begin{bmatrix} \\hat{y}_1 \\\\ \\hat{y}_2 \\\\ \\vdots \\\\ \\hat{y}_n \\end{bmatrix}\n",
    "\\end{array}\n",
    "$$\n",
    "\n",
    "Nessa formulaçao, a diferença entre as predições e os valores medidos pode ser expressa em um vetor:\n",
    "\n",
    "$$\n",
    "e = y - \\hat{y} = \\begin{bmatrix} y_1 - \\hat{y}_1 \\\\ y_1 - \\hat{y}_1 \\\\ \\vdots \\\\ y_n - \\hat{y}_n \\end{bmatrix} = \\begin{bmatrix} e_1 \\\\ e_2 \\\\ \\vdots \\\\ e_n \\end{bmatrix}\n",
    "$$\n",
    "\n",
    "**Exercício**:\n",
    "\n",
    "Mostre que o EQM pode ser calculado como:\n",
    "\n",
    "$$\n",
    "\\text{EQM} = \\frac{1}{n} e^T e\n",
    "$$ \n",
    "\n",
    "usando a formulação mostrada neste enunciado, e como o resultado é estritamente igual ao EQM calculado usando a notação somatória acima. Para isso, expanda o vetor $e$ e mostre explicitamente como a operação resultante é igual à que obtivemos anteriormente.\n",
    "\n"
   ]
  },
  {
   "cell_type": "markdown",
   "id": "872f0ac7",
   "metadata": {},
   "source": [
    "# Exercício 2\n",
    "**Objetivo: usar matrizes para representar modelos com várias entradas**\n",
    "\n",
    "Até o momento, usamos a formulação:\n",
    "\n",
    "$$\n",
    " \\begin{bmatrix} \\hat{y}_1 \\\\ \\hat{y}_2 \\\\ \\vdots \\\\ \\hat{y}_n \\end{bmatrix} = \\begin{bmatrix} x_1 & 1 \\\\ x_2 & 1 \\\\ \\vdots & \\vdots \\\\ x_n & 1  \\end{bmatrix} \\begin{bmatrix} a \\\\ b \\end{bmatrix}\n",
    "$$\n",
    "\n",
    "---\n",
    "\n",
    "Porém, talvez queiramos usar uma função que não seja um polinômio de primeiro grau, como $f(x)=ax+b$. Talvez queiramos, por exemplo, modelar alguma função polinomial. Nesse caso, vamos ter que usar matrizes de dados com mais colunas. Se usarmos a forma: $f(x) = ax^2 + bx + c$, teremos:\n",
    "\n",
    "$$\n",
    " \\begin{bmatrix} \\hat{y}_1 \\\\ \\hat{y}_2 \\\\ \\vdots \\\\ \\hat{y}_n \\end{bmatrix} = \\begin{bmatrix} x^2_1 & x_1 & 1 \\\\ x^2_2 & x_2 & 1 \\\\ \\vdots & \\vdots \\\\ x^2_n & x_n & 1  \\end{bmatrix} \\begin{bmatrix} a \\\\ b \\\\ c \\end{bmatrix}\n",
    "$$\n",
    "\n",
    "Veja como nosso modelo nos permite calcular o valor dessa função em $x_k=3$ usando:\n",
    "\n",
    "$$\n",
    "f(3) = \\begin{bmatrix} 3^2 & 3 & 1 \\end{bmatrix} \\begin{bmatrix} a \\\\ b \\\\ c \\end{bmatrix} = \\begin{bmatrix} 9 & 3 & 1 \\end{bmatrix} \\begin{bmatrix} a \\\\ b \\\\ c \\end{bmatrix}\n",
    "$$\n",
    "\n",
    "---\n",
    "\n",
    "No código abaixo, construa as matrizes:\n",
    "\n",
    "$$\n",
    "X = \\begin{bmatrix} x^2_1 & x_1 & 1 \\\\ x^2_2 & x_2 & 1 \\\\ \\vdots & \\vdots \\\\ x^2_n & x_n & 1  \\end{bmatrix}\n",
    "$$\n",
    "\n",
    "e \n",
    "\n",
    "$$\n",
    "y_{\\text{medido}} = \\begin{bmatrix} y_1 \\\\ y_2 \\\\ \\vdots \\\\ y_n \\end{bmatrix}\n",
    "$$\n",
    "\n",
    "usando os dados gerados (`x` e `y_medido`)."
   ]
  },
  {
   "cell_type": "code",
   "execution_count": 24,
   "id": "9a7a460d",
   "metadata": {},
   "outputs": [
    {
     "name": "stdout",
     "output_type": "stream",
     "text": [
      "[[1 6]\n",
      " [2 8]]\n"
     ]
    }
   ],
   "source": [
    "# Dica: use o np.hstack\n",
    "v = np.array([ [1], [2]])\n",
    "w = np.array([[ 3], [4]])\n",
    "z = np.hstack ( (v, 2*w))\n",
    "print(z)"
   ]
  },
  {
   "cell_type": "code",
   "execution_count": 25,
   "id": "6e5421dc",
   "metadata": {},
   "outputs": [
    {
     "ename": "AssertionError",
     "evalue": "",
     "output_type": "error",
     "traceback": [
      "\u001b[31m---------------------------------------------------------------------------\u001b[39m",
      "\u001b[31mAssertionError\u001b[39m                            Traceback (most recent call last)",
      "\u001b[36mCell\u001b[39m\u001b[36m \u001b[39m\u001b[32mIn[25]\u001b[39m\u001b[32m, line 14\u001b[39m\n\u001b[32m     11\u001b[39m y = np.array(x)\n\u001b[32m     13\u001b[39m \u001b[38;5;66;03m# Testes - deveriam passar quando você acertar o exercício\u001b[39;00m\n\u001b[32m---> \u001b[39m\u001b[32m14\u001b[39m \u001b[38;5;28;01massert\u001b[39;00m X.shape == (n,\u001b[32m3\u001b[39m)\n\u001b[32m     15\u001b[39m \u001b[38;5;28;01massert\u001b[39;00m y.shape == (n,\u001b[32m1\u001b[39m)\n",
      "\u001b[31mAssertionError\u001b[39m: "
     ]
    }
   ],
   "source": [
    "# Gerando os dados\n",
    "n = 1000\n",
    "a, b, c = 1, 2, 3\n",
    "x = np.linspace(-1, 1, n)\n",
    "y_real = a * x**2 + b * x + c\n",
    "sigma_ruido = 0.2\n",
    "y_medido = y_real + sigma_ruido * np.random.normal(size=y_real.shape)\n",
    "\n",
    "# Resolva o exercício aqui\n",
    "X = np.array(x) \n",
    "y = np.array(x)\n",
    "\n",
    "# Testes - deveriam passar quando você acertar o exercício\n",
    "assert X.shape == (n,3)\n",
    "assert y.shape == (n,1)"
   ]
  },
  {
   "cell_type": "markdown",
   "id": "612119c3",
   "metadata": {},
   "source": [
    "# Exercício 3\n",
    "**Objetivo: calcular parâmetros do modelo usando a pseudoinversa**\n",
    "\n",
    "Nesse momento, temos uma formulação como:\n",
    "\n",
    "$$\n",
    " \\begin{bmatrix} \\hat{y}_1 \\\\ \\hat{y}_2 \\\\ \\vdots \\\\ \\hat{y}_n \\end{bmatrix} = \\begin{bmatrix} x^2_1 & x_1 & 1 \\\\ x^2_2 & x_2 & 1 \\\\ \\vdots & \\vdots \\\\ x^2_n & x_n & 1  \\end{bmatrix} \\begin{bmatrix} a \\\\ b \\\\ c \\end{bmatrix}\n",
    "$$\n",
    "\n",
    "Vamos nos referir a essas matrizes usando a notação típica de Machine Learning:\n",
    "\n",
    "$$\n",
    "\\hat{y} = X w^T\n",
    "$$\n",
    "\n",
    "Vamos analisar rapidamente as matrizes que estamos construindo.\n",
    "\n",
    "A matriz de estimativas $\\hat{y}=\\begin{bmatrix} \\hat{y}_1 \\\\ \\hat{y}_2 \\\\ \\vdots \\\\ \\hat{y}_n \\end{bmatrix}$. Ela é uma matriz $n \\times 1$, isto é, há $1$ resultado para cada uma das medidas que fizermos.\n",
    "\n",
    "A matriz de entradas $X=\\begin{bmatrix} x^2_1 & x_1 & 1 \\\\ x^2_2 & x_2 & 1 \\\\ \\vdots & \\vdots \\\\ x^2_n & x_n & 1  \\end{bmatrix}$. Ela é uma matriz $n \\times k$, onde $n$ é o número de medidas coletadas e $k$ é o número de pequenas funções que usamos para encontrar as nossas estimativas.\n",
    "\n",
    "Por fim, a matriz $w^T = \\begin{bmatrix} a \\\\ b \\\\ c \\end{bmatrix}$ contém os pesos que serão aplicados a cada um dos resultados colocados na matriz $X$ de forma a gerar as saídas correspondentes.\n",
    "\n",
    "Nosso problema de estimativa de parâmetros pode ser refraseado da seguinte forma: gostaríamos de estimar os elementos de $w^T$ de tal forma que a estimativa $\\hat{y}$ se aproxime dos valores medidos $y$ minimizando o erro calculado por $e^Te$.\n",
    "\n",
    "---\n",
    "\n",
    "Nosso modelo gera estimativas para $y$ à partir de medições:\n",
    "\n",
    "$$\n",
    "\\hat{y} = X w^T\n",
    "$$\n",
    "\n",
    "Se o modelo fosse perfeito, ele iria gerar exatamente os valores medidos para $y$:\n",
    "\n",
    "$$\n",
    "y = X w^T\n",
    "$$\n",
    "\n",
    "sabemos que, se $X$ fosse inversível, encontrar $w^T$ à partir das medições seria muito simples. Porém, $X$ não é sequer uma matriz quadrada.\n",
    "\n",
    "Vamos usar então a seguinte estratégia. Vamos multiplicar os dois lados da equação, à esquerda, por $X^T$:\n",
    "\n",
    "$$\n",
    "X^T y = X^T X w^T\n",
    "$$\n",
    "\n",
    "A matriz $ X^T X$ é quadrada e inversível. Então, podemos multiplicar os dois lados da equação por sua inversa, chegando a:\n",
    "\n",
    "$$\n",
    "(X^T X)^{-1} X^T y = w^T\n",
    "$$\n",
    "\n",
    "A matriz $(X^T X)^{-1} X^T$ é chamada de pseudo-inversa de $X$ e usamos a notação $X^+$ para nos referir a ela.\n",
    "\n",
    "Veja como agora podemos encontrar $w^T$ em função de nossas medições:\n",
    "\n",
    "$$\n",
    "w^T = X^+ y\n",
    "$$\n",
    "\n",
    "**Exercício**: Use a pseudo-inversa para calcular $w^T$ usando os dados do Exercício 2."
   ]
  },
  {
   "cell_type": "code",
   "execution_count": null,
   "id": "e605440c",
   "metadata": {},
   "outputs": [],
   "source": [
    "# Resolva seu exercício aqui\n"
   ]
  },
  {
   "cell_type": "markdown",
   "id": "44fb4abc",
   "metadata": {},
   "source": [
    "# Exercício 4\n",
    "**Objetivo: usar a pseudo-inversa para encontrar parâmetros de uma função linear nos parâmetros**\n",
    "\n",
    "O código abaixo gera valores para medidas ruidosas de uma função $f(x)$. Implemente a função `recuperar_wt` que recebe os valores de $x$ e os valores medidos de $f(x)$ e retorna os valores de $w^T$.\n",
    "\n",
    "Antes de começar a fazer seu código, escreva quais são as matrizes, fórmulas e equações que você está implementando, incluindo o que significa cada linha e cada coluna das matrizes que vai usar. Sua notação matemática deve ser tal que ela evidencia qual deveria ser o resultado da função `recuperar_wt`, de forma que você consiga verificar, por conta própria, se o resultado está correto."
   ]
  },
  {
   "cell_type": "code",
   "execution_count": null,
   "id": "fb67e45d",
   "metadata": {},
   "outputs": [],
   "source": [
    "x = np.linspace(-10,10,100)\n",
    "y_real = np.cos(x) + 1.5 * x**2 + 3 * np.cos(2*x) + 5\n",
    "sigma_ruido = 0.1\n",
    "y_medido = y_real + sigma_ruido * np.random.normal(size=y_real.shape)\n",
    "\n",
    "def recuperar_wt(x, y_medido):\n",
    "    return np.zeros_like(x)\n",
    "\n"
   ]
  },
  {
   "cell_type": "markdown",
   "id": "07ea1a77",
   "metadata": {},
   "source": [
    "# Exercício 5\n",
    "**Aplicar a pseudo-inversa num caso real**\n",
    "\n",
    "Usando os dados que você coletou sobre o tempo de queda de pequenos objetos em sala, use uma formulação matricial e a pseudo-inversa para encontrar o valor da aceleração da gravidade na sua sala de aula."
   ]
  },
  {
   "cell_type": "markdown",
   "id": "0f057bd4",
   "metadata": {},
   "source": []
  }
 ],
 "metadata": {
  "kernelspec": {
   "display_name": "alglin (3.13.2)",
   "language": "python",
   "name": "python3"
  },
  "language_info": {
   "codemirror_mode": {
    "name": "ipython",
    "version": 3
   },
   "file_extension": ".py",
   "mimetype": "text/x-python",
   "name": "python",
   "nbconvert_exporter": "python",
   "pygments_lexer": "ipython3",
   "version": "3.13.2"
  }
 },
 "nbformat": 4,
 "nbformat_minor": 5
}
