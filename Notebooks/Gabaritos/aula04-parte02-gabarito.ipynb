{
 "cells": [
  {
   "cell_type": "markdown",
   "id": "57036ff7",
   "metadata": {},
   "source": [
    "# Parte 2"
   ]
  },
  {
   "cell_type": "markdown",
   "id": "9d3ab4d0",
   "metadata": {},
   "source": [
    "# Bases: mudando o referencial\n",
    "\n",
    "Este capítulo está ligado ao seguintes objetivos didáticos do curos:\n",
    "1. Avaliar e resolver sistemas de equações lineares\n",
    "1. Interpretar e analisar transformações lineares\n",
    "\n",
    "Referência bibliográfica: [Jim Hefferon - Linear Algebra - 4th Edition](https://hefferon.net/linearalgebra/) - Chap. Three, V-VI"
   ]
  },
  {
   "cell_type": "code",
   "execution_count": 2,
   "id": "6f03b296",
   "metadata": {},
   "outputs": [],
   "source": [
    "import numpy as np\n",
    "import matplotlib.pyplot as plt"
   ]
  },
  {
   "cell_type": "markdown",
   "id": "e9df75de",
   "metadata": {},
   "source": [
    "# Exercício 1\n",
    "**Objetivo: realizar uma combinação linear de vetores**\n",
    "\n",
    "Numa loja, vendem-se pacotes do tipo P1 e do tipo P2. O pacote P1 tem 3 brigadeiros e 2 coxinhas. O pacote P2 tem 3 coxinhas e 1 brigadeiro. Gostaríamos de comprar 9 brigadeiros e 13 coxinhas. \n",
    "\n",
    "1. Quantos pacotes do tipo P1 e do tipo P2 deveríamos comprar?\n",
    "2. No plano cartesiano (brigadeiros x coxinhas), que vetor representa nossa compra?\n",
    "3. No plano cartesiano (P1 x P2), que vetor representa nossa compra?\n",
    "4. Qual é a matriz que permite converter uma compra escrita como \"brigadeiros e coxinhas\" para uma compra escrita como \"P1 e P2\"?"
   ]
  },
  {
   "cell_type": "markdown",
   "id": "f94040fc",
   "metadata": {},
   "source": [
    "**Solução**\n",
    "\n",
    "Neste exercício, sabemos que comprar um pacote P1 é equivalente a comprar 3 brigadeiros e 2 coxinhas, e comprar um pacote P2 é equivalente a comrpar 3 coxinhas e 1 brigadeiro. Vou começar essa solução *discutindo um erro comum* que é dizer que:\n",
    "\n",
    "$$\n",
    "\\begin{cases}\n",
    "\\begin{array}{rl}\n",
    "P_1 &= 3b + 2c\\\\\n",
    "P_2 &= 1b + 3c\n",
    "\\end{array}\n",
    "\\end{cases}\n",
    "$$\n",
    "\n",
    "O que esse sistema (que está errado), estamos dizendo que o número de pacotes P1 é igual a 3 vezes número de brigadeiros mais 2 vezes o número de coxinhas! O equacionamento correto é dizer que o número de coxinhas é igual a 2 vezes o número de pacotes P1 mais três vezes no número de pacotes P2, e seguimos um raciocínio análogo para o número de brigadeiros:\n",
    "\n",
    "$$\n",
    "\\begin{cases}\n",
    "\\begin{array}{rl}\n",
    "b &= 3P_1 + 1P_2\\\\\n",
    "c &= 2P_1 + 3P_2\n",
    "\\end{array}\n",
    "\\end{cases}\n",
    "$$\n",
    "\n",
    "Na forma matricial, ficamos com:\n",
    "\n",
    "\n",
    "$$\n",
    "\\begin{bmatrix}b \\\\ c\\end{bmatrix} = \n",
    "\\begin{bmatrix}3 & 1 \\\\ 2 & 3 \\end{bmatrix}\n",
    "\\begin{bmatrix}P_1 \\\\ P_2\\end{bmatrix}\n",
    "$$\n",
    "\n",
    "E podemos resolver nosso problema normalmente!"
   ]
  },
  {
   "cell_type": "code",
   "execution_count": 4,
   "id": "4ecd3bf2",
   "metadata": {},
   "outputs": [
    {
     "name": "stdout",
     "output_type": "stream",
     "text": [
      "Número de pacotes P1:1.9999999999999996\n",
      "Número de pacotes P2:3.0\n",
      "Vetor em brigadeiros-coxinhas: [[ 9 13]]\n",
      "Vetor em pacotes: [[2. 3.]]\n",
      "Matriz de transformação: [[ 0.42857143 -0.14285714]\n",
      " [-0.28571429  0.42857143]]\n"
     ]
    }
   ],
   "source": [
    "A = np.array([[3, 1], [2, 3]])\n",
    "A_inv = np.linalg.inv(A)\n",
    "bc = np.array( [[9,13]]).T\n",
    "p = A_inv @ bc\n",
    "\n",
    "print(f\"Número de pacotes P1:{p[0,0]}\")\n",
    "print(f\"Número de pacotes P2:{p[1,0]}\")\n",
    "print(f\"Vetor em brigadeiros-coxinhas: {bc.T}\")\n",
    "print(f\"Vetor em pacotes: {p.T}\")\n",
    "print(f\"Matriz de transformação: {A_inv}\")"
   ]
  },
  {
   "cell_type": "markdown",
   "id": "17f6abcf",
   "metadata": {},
   "source": [
    "# Exercício 2\n",
    "**Objetivo: modelar uma combinação linear**\n",
    "\n",
    "Em um plano cartesiano, estamos inicialmente na origem e gostaríamos de nos mover para o vetor $v=[5, -3]$. Porém, só podemos nos movimentar ao longo dos vetores $w_1 = [-1, 1]$ e $w_2 = [3, -2]$.\n",
    "\n",
    "Encontre quanto devemos andar nas direções $w_1$ e $w_2$ para chegar ao ponto $[5, -3]$, isto é, quais são os valores de $a_1$ e $a_2$ tais que $a_1 w_1 + a_2 w_2 = [5, -3]$.\n",
    "\n"
   ]
  },
  {
   "cell_type": "markdown",
   "id": "3e297971",
   "metadata": {},
   "source": [
    "**Solução**\n",
    "\n",
    "Podemos modelar nosso problema como:\n",
    "$$\n",
    "\\begin{bmatrix}5 \\\\ -3 \\end{bmatrix} =\n",
    "a_1 \\begin{bmatrix} -1 \\\\ 1 \\end{bmatrix} + a_2 \\begin{bmatrix} 3 \\\\ -2 \\end{bmatrix}\n",
    "$$ \n",
    "\n",
    "Colocando na forma matricial:\n",
    "\n",
    "$$\n",
    "\\begin{bmatrix}5 \\\\ -3 \\end{bmatrix} = \\begin{bmatrix} -1 & 3 \\\\ 1 & -2 \\end{bmatrix} \\begin{bmatrix} a_1 \\\\ a_2 \\end{bmatrix}\n",
    "$$\n",
    "\n",
    "E, portanto,\n",
    "$$\n",
    "\\begin{bmatrix} a_1 \\\\ a_2 \\end{bmatrix} = \\begin{bmatrix} -1 & 3 \\\\ 1 & -2 \\end{bmatrix} ^{-1} \\begin{bmatrix}5 \\\\ -3 \\end{bmatrix}\n",
    "$$"
   ]
  },
  {
   "cell_type": "code",
   "execution_count": 5,
   "id": "946c0325",
   "metadata": {},
   "outputs": [
    {
     "name": "stdout",
     "output_type": "stream",
     "text": [
      "Valor de a1: 1.0\n",
      "Valor de a2: 2.0\n"
     ]
    }
   ],
   "source": [
    "w = np.array([ [-1, 3], [1, -2]])\n",
    "y = np.array( [[5, -3]]).T\n",
    "a = np.linalg.inv(w) @ y\n",
    "print(f\"Valor de a1: {a[0,0]}\")\n",
    "print(f\"Valor de a2: {a[1,0]}\")"
   ]
  },
  {
   "cell_type": "markdown",
   "id": "3a82f40d",
   "metadata": {},
   "source": []
  },
  {
   "cell_type": "markdown",
   "id": "5b21e361",
   "metadata": {},
   "source": [
    "# Exercício 3\n",
    "**Objetivo: generalizar o resultado de uma combinação linear**\n",
    "\n",
    "No exercício anterior, mapeamos um vetor $[5,-3]$ para um vetor $[a_1, a_2]$.\n",
    "\n",
    "1. Generalize sua solução para encontrar como chegar em um ponto genérico $v=[x,y]$.\n",
    "2. Modifique o código abaixo para que ele mostre como cada vetor $[x,y]$ é mapeado para um vetor $[a_1, a_2]$"
   ]
  },
  {
   "cell_type": "markdown",
   "id": "1a7c1f8f",
   "metadata": {},
   "source": [
    "**Solução** \n",
    "\n",
    "$$\n",
    "\\begin{bmatrix}x \\\\ y \\end{bmatrix} =\n",
    "a_1 \\begin{bmatrix} -1 \\\\ 1 \\end{bmatrix} + a_2 \\begin{bmatrix} 3 \\\\ -2 \\end{bmatrix}\n",
    "$$ \n",
    "\n",
    "Colocando na forma matricial:\n",
    "\n",
    "$$\n",
    "\\begin{bmatrix}x \\\\ y \\end{bmatrix} = \\begin{bmatrix} -1 & 3 \\\\ 1 & -2 \\end{bmatrix} \\begin{bmatrix} a_1 \\\\ a_2 \\end{bmatrix}\n",
    "$$\n",
    "\n",
    "E, portanto,\n",
    "$$\n",
    "\\begin{bmatrix} a_1 \\\\ a_2 \\end{bmatrix} = \\begin{bmatrix} -1 & 3 \\\\ 1 & -2 \\end{bmatrix} ^{-1} \\begin{bmatrix}x \\\\ y \\end{bmatrix}\n",
    "$$"
   ]
  },
  {
   "cell_type": "code",
   "execution_count": 6,
   "id": "e8cef7aa",
   "metadata": {},
   "outputs": [
    {
     "data": {
      "image/png": "[encoded data removed]",
      "text/plain": [
       "<Figure size 640x480 with 1 Axes>"
      ]
     },
     "metadata": {},
     "output_type": "display_data"
    }
   ],
   "source": [
    "# Comece com esse código inicial!\n",
    "x = np.random.uniform(-0.5, 0.5, size=(2, 600))\n",
    "\n",
    "# Altere daqui para baixo\n",
    "# -----------------\n",
    "w = np.array([ [-1, 3], [1, -2]])\n",
    "v = np.linalg.inv(w) @ x\n",
    "# -----------------\n",
    "# Altere daqui para cima\n",
    "\n",
    "plt.figure()\n",
    "plt.scatter(x[0,:], x[1,:], s=1, c='r', label='Espaço v1,v2')\n",
    "plt.scatter(v[0,:], v[1,:], s=1, c='b', label='Espaço a1,a2')\n",
    "plt.xlim([-2, 2])\n",
    "plt.ylim([-2, 2])\n",
    "plt.grid()\n",
    "plt.legend()\n",
    "plt.show()"
   ]
  },
  {
   "cell_type": "markdown",
   "id": "d30569d3",
   "metadata": {},
   "source": [
    "# Exercício 4\n",
    "**Objetivo: aplicar o conceito de base para construir uma transformação**\n",
    "\n",
    "No exercício anterior, tínhamos um vetor \"original\". Quanto temos um vetor \"original\", implicitamente ele está nos dizendo o quanto devemos \"andar\" na direção dos vetores que estão na matriz identidade. Por exemplo, o vetor $v=[2,3]$ pode ser entendido como:\n",
    "$$\n",
    "\\begin{bmatrix}\n",
    " 2 \\\\\n",
    " 3\n",
    "\\end{bmatrix}\n",
    "=\n",
    "2\n",
    "\\begin{bmatrix}\n",
    " 1 \\\\\n",
    " 0\n",
    "\\end{bmatrix}\n",
    "\n",
    "+ \n",
    "\n",
    "3\n",
    "\\begin{bmatrix}\n",
    " 0 \\\\\n",
    " 1\n",
    "\\end{bmatrix}\n",
    "$$ \n",
    "\n",
    "Veja como essa soma de vetores pode ser representada graficamente:"
   ]
  },
  {
   "cell_type": "code",
   "execution_count": null,
   "id": "bdec4668",
   "metadata": {},
   "outputs": [],
   "source": []
  },
  {
   "cell_type": "code",
   "execution_count": 3,
   "id": "498bdd98",
   "metadata": {},
   "outputs": [
    {
     "data": {
      "image/png": "[encoded data removed]",
      "text/plain": [
       "<Figure size 500x500 with 1 Axes>"
      ]
     },
     "metadata": {},
     "output_type": "display_data"
    }
   ],
   "source": [
    "# Um vetor é, implicitamente, a definição de uma soma ponderada de vetores da base canônica:\n",
    "v = np.array([2, 3])\n",
    "plt.figure(figsize=(5,5))\n",
    "plt.arrow(0,0,v[0],v[1],length_includes_head=True,head_width=0.1)\n",
    "plt.arrow(0,0,v[0],0,length_includes_head=True,head_width=0.1)\n",
    "plt.arrow(v[0],0,0,v[1],length_includes_head=True,head_width=0.1)\n",
    "plt.text(v[0]/2 - 0.85, v[1]/2, 'v=['+str(v[0])+', '+str(v[1])+']')\n",
    "plt.text(v[0] + 0.1, v[1]/2, '3 x [0,1]')\n",
    "plt.text(v[0]/2, -0.2, '2 x [1,0]')\n",
    "plt.xlim([-1,4])\n",
    "plt.ylim([-1,4])\n",
    "plt.grid()\n",
    "plt.show()"
   ]
  },
  {
   "cell_type": "markdown",
   "id": "3200f270",
   "metadata": {},
   "source": [
    "Daí então, quando tentamos usar os vetores $w_1 = [-1, 1]$ e $w_2 = [3, -2]$ para compor nosso ponto, passamos a escrever:\n",
    "\n",
    "$$\n",
    "\\begin{bmatrix}\n",
    " 2 \\\\\n",
    " 3\n",
    "\\end{bmatrix}\n",
    "= a_1 w_1 + a_2 w_2 = \n",
    "\n",
    "a_1\n",
    "\\begin{bmatrix}\n",
    " -1 \\\\\n",
    " 1\n",
    "\\end{bmatrix}\n",
    "\n",
    "+ \n",
    "\n",
    "a_2\n",
    "\\begin{bmatrix}\n",
    " 3 \\\\\n",
    " -2\n",
    "\\end{bmatrix}\n",
    "$$ \n",
    "\n",
    "As duas representações (a original e a modificada) podem ser escritas como multiplicações matriciais:\n",
    "\n",
    "$$\n",
    "\\begin{bmatrix}\n",
    " 2 \\\\\n",
    " 3\n",
    "\\end{bmatrix}\n",
    "=\n",
    "\n",
    "\\begin{bmatrix}\n",
    " 1 & 0\\\\\n",
    " 0 & 1\n",
    "\\end{bmatrix}\n",
    "\\begin{bmatrix}\n",
    " 2 \\\\\n",
    " 3 \n",
    "\\end{bmatrix}\n",
    "\n",
    "=\n",
    "\n",
    "\\begin{bmatrix}\n",
    " -1 & 3\\\\\n",
    " 1 & -2\n",
    "\\end{bmatrix}\n",
    "\\begin{bmatrix}\n",
    " a_1 \\\\\n",
    " a_2 \n",
    "\\end{bmatrix}\n",
    "$$\n",
    "\n",
    "Agora, veja como passamos a entender o nosso vetor original ($[2,3]^T$) como uma multiplicação de dois elementos diferentes:\n",
    "\n",
    "1. Uma matriz que contém os vetores que são usados como *base* para encontrar os pontos:\n",
    "\n",
    "$$\n",
    "B = \n",
    "\\begin{bmatrix}\n",
    " -1 & 3\\\\\n",
    " 1 & -2\n",
    "\\end{bmatrix}\n",
    "=\n",
    "\\begin{bmatrix}\n",
    " w_1 & w_2 \n",
    "\\end{bmatrix}\n",
    "$$\n",
    "\n",
    "2. Um vetor que contém os coeficientes que devem multiplicar os vetores-base antes de somá-los, para então encontrar o ponto de referência.\n",
    "\n",
    "$$\n",
    "w=\n",
    "\\begin{bmatrix}\n",
    " a_1\\\\\n",
    " a_2 \n",
    "\\end{bmatrix}\n",
    "$$\n",
    "\n",
    "Por isso, dizemos que a vetor $w$ está na **base** $B$.\n",
    "\n",
    "De forma mais geral, estamos dizendo que um vetor inicial $v$ pode ser escrito na base $B$ usando o vetor $w$ se:\n",
    "\n",
    "$$\n",
    "v = B w\n",
    "$$\n",
    "\n",
    "e, portanto, se conhecemos $v$ e $B$, então podemos encontrar $w$ resolvendo o sistema linear acima.\n",
    "\n",
    "Por fim, dizemos que $v$ está na \"base canônica\" porque, implicitamente, os vetores-base de $v$ formam a matriz identidade, isto é:\n",
    "\n",
    "$$\n",
    "v = I v\n",
    "$$\n",
    "\n",
    "**Enunciado do exercício**\n",
    "\n",
    "1. Se assumimos que a base de cores RGB é a base canônica, então um pixel em RGB pode ser escrito como um vetor $v$. Quais são os vetores-base que permitem transformar esse pixel para o espaço YIQ? Em outras palavras, quais são as colunas de $B$ tal que $X_{rgb} = B X_{yiq}$?\n",
    "2. Se assumimos que a base de cores YIQ é a base canônica, então um pixel em YIQ pode ser escrito como um vetor $v$. Quais são os vetores-base que permitem transformar esse pixel para o espaço RGB? Em outras palavras, quais são as colunas de $C$ tal que $X_{yiq} = C X_{rgb}$?\n",
    "3. Qual é a relação entre as matrizes $C$ e $B$ definidas acima?\n",
    "\n",
    "**Solução**\n",
    "\n",
    "1. $B = A^{-1}$, onde $A$ é a matriz que leva de RGB para YIQ (definida na parte 01)\n",
    "2. Nesse caso, $C$ é exatamente a matriz $A$.\n",
    "3. $B = C^{-1}$\n"
   ]
  },
  {
   "cell_type": "markdown",
   "id": "c9994bcf",
   "metadata": {},
   "source": [
    "# Exercício 5\n",
    "*Objetivo: encontrar os vetores-base em uma rotação*\n",
    "\n",
    "Quando realizamos uma rotação no plano $\\mathbb{R}^2$, partimos de um vetor $x$ para encontrar um vetor $y$ usando a equação:\n",
    "\n",
    "$$\n",
    "\\begin{bmatrix}\n",
    "y_1\\\\\n",
    "y_2\n",
    "\\end{bmatrix}\n",
    "=\n",
    "\\begin{bmatrix}\n",
    "\\cos{\\theta} & -\\sin{\\theta}\\\\\n",
    "\\sin{\\theta} & \\cos{\\theta}\n",
    "\\end{bmatrix}\n",
    "\\begin{bmatrix}\n",
    "x_1\\\\\n",
    "x_2\n",
    "\\end{bmatrix}\n",
    "$$\n",
    "\n",
    "Vamos nos referir a $\\mathbb{R}_x$ quando estivermos falando de um vetor na base canônica (na base de $x$), e $\\mathbb{R}_y$ para nos referir a um vetor na base rotacionada (a base de $y$).\n",
    "\n",
    "Os vetores $\\begin{bmatrix}1\\\\0\\end{bmatrix}$ e $\\begin{bmatrix}0\\\\1\\end{bmatrix}$ estão em $\\mathbb{R}_y$. Encontre suas representações em $\\mathbb{R}_x$. Dica: assuma um valor arbitrário para $\\theta$ e use `numpy` para realizar as operações necessárias.\n"
   ]
  },
  {
   "cell_type": "code",
   "execution_count": 8,
   "id": "fe818c65",
   "metadata": {},
   "outputs": [
    {
     "data": {
      "image/png": "[encoded data removed]",
      "text/plain": [
       "<Figure size 500x500 with 1 Axes>"
      ]
     },
     "metadata": {},
     "output_type": "display_data"
    }
   ],
   "source": [
    "# Solucao\n",
    "theta = np.deg2rad(30)\n",
    "R = np.array( [ [np.cos(theta), -np.sin(theta)],\n",
    "                [np.sin(theta),  np.cos(theta)] ] )\n",
    "\n",
    "v_ry = np.eye(2)\n",
    "v_rx = np.linalg.inv(R) @ v_ry\n",
    "\n",
    "plt.figure(figsize=(5,5))\n",
    "plt.arrow(0,0,v_rx[0,0],v_rx[1,0],length_includes_head=True,head_width=0.1)\n",
    "plt.arrow(0,0,v_rx[0,1],v_rx[1,1],length_includes_head=True,head_width=0.1)\n",
    "plt.xlim([-1,2])\n",
    "plt.ylim([-1,2])\n",
    "plt.grid()\n",
    "plt.show()\n"
   ]
  },
  {
   "cell_type": "code",
   "execution_count": null,
   "id": "1e7410a1",
   "metadata": {},
   "outputs": [],
   "source": []
  }
 ],
 "metadata": {
  "kernelspec": {
   "display_name": "alglin (3.13.2)",
   "language": "python",
   "name": "python3"
  },
  "language_info": {
   "codemirror_mode": {
    "name": "ipython",
    "version": 3
   },
   "file_extension": ".py",
   "mimetype": "text/x-python",
   "name": "python",
   "nbconvert_exporter": "python",
   "pygments_lexer": "ipython3",
   "version": "3.13.2"
  }
 },
 "nbformat": 4,
 "nbformat_minor": 5
}
