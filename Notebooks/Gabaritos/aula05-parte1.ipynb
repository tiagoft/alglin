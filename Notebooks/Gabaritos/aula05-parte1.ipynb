{
 "cells": [
  {
   "cell_type": "markdown",
   "id": "56edfbe8",
   "metadata": {},
   "source": [
    "# Analisando transformadas com auto-valores e auto-vetores\n",
    "\n",
    "Este capítulo está ligado ao seguintes objetivos didáticos do curos:\n",
    "1. Interpretar e analisar transformações lineares\n",
    "1. Aplicar a decomposição em valores singulares\n",
    "\n",
    "Referências bibliográficas:\n",
    "\n",
    "[Jim Hefferon - Linear Algebra - 4th Edition](https://hefferon.net/linearalgebra/) - Chap. Five, II.3\n",
    "\n",
    "[Philip N. Klein - Coding the Matrix - 1st Edition](https://codingthematrix.com/) - Chap. 11-12"
   ]
  },
  {
   "cell_type": "code",
   "execution_count": null,
   "id": "11ec7b29",
   "metadata": {},
   "outputs": [],
   "source": [
    "import numpy as np\n",
    "import matplotlib.pyplot as plt\n",
    "import matplotlib.image as mpimg\n",
    "#import cv2 as cv\n",
    "import pandas as pd\n",
    "#import pygame"
   ]
  },
  {
   "cell_type": "markdown",
   "id": "a25f2d99",
   "metadata": {},
   "source": [
    "# Aula 5"
   ]
  },
  {
   "cell_type": "markdown",
   "id": "12247646",
   "metadata": {},
   "source": [
    "# Parte 1"
   ]
  },
  {
   "cell_type": "markdown",
   "id": "9ae13cd4",
   "metadata": {},
   "source": [
    "# Exercício 1\n",
    "**Objetivo: Executar um sistema dinâmico e procurar por pontos de estabilidade**\n"
   ]
  },
  {
   "cell_type": "markdown",
   "id": "cacadcde",
   "metadata": {},
   "source": [
    "No [capítulo 2](02-sistemas_lineares.ipynb), usamos uma matriz para representar dois sistemas que operam dinamicamente: a população de carcarás e sapos numa região fictícia, e a dinâmica de navegação de um web-surfista aleatório. Se precisar, revise esse material!\n",
    "\n",
    "Esses dois sistemas são chamados de *sistemas dinâmicos* porque eles estão tratando de uma evolução de elementos ao longo do tempo. Como já falamos de carcarás e navegadores, vamos tratar agora de um outro sistema bem interessante, que é o de bicicletas públicas de Montreal.\n",
    "\n",
    "Já por perto de 2010 a 2011, Montreal tinha um sistema de bicicletas públicas bastante parecido com as bicicletas Itaú que temos hoje em São Paulo. Só que Montreal é uma cidade que fica em uma montanha (cujo ponto mais alto é o [Mount Royal](https://www.google.com/maps/place/Mount+Royal+Park/@45.5023053,-73.6098349,14.25z/data=!4m13!1m7!3m6!1s0x4cc91a541c64b70d:0x654e3138211fefef!2sMontreal,+QC,+Canada!3b1!8m2!3d45.5018869!4d-73.5673919!3m4!1s0x4cc91a3b89d50ee1:0x4c8dc463a4718c9a!8m2!3d45.5015664!4d-73.5932179)), o que levou a um problema interessante: as pessoas tendem a tomar uma bicicleta emprestada na estação que fica na região mais alta e devolver em uma das estações das regiões mais baixas, mas raramente alguém faz o caminho inverso. O fim dessa história é que a [prefeitura contratou caminhões para ficarem levando bicicletas morro acima](https://www.csmonitor.com/World/Global-News/2011/0921/Montreal-s-public-bike-system-faces-uphill-battle), e uma consequência inesperada é que essa história seria um exemplo numa aula de álgebra linear dez anos depois num outro hemisfério.\n",
    "\n",
    "---\n",
    "\n",
    "Em nosso modelo, vamos fazer várias suposições que cabem para o nosso exemplo, mas que não necessariamente correspondem a dados reais.\n",
    "\n",
    "* Vamos supor que temos três estações. As duas primeiras (E1 e E2) ficam na parte baixa da cidade. A outra estação (E3) fica na parte alta.\n",
    "* Quando uma bicicleta é tomada emprestada em E1, ela tem 90% de chance de ser devolvida em E2 e 10% de chance de ser devolvida em E3.\n",
    "* Quando uma bicicleta é tomada emprestada em E2, ela tem 95% de chance de ser devolvida em E1 e 5% de chance de ser devolvida em E3.\n",
    "* Quando uma bicicleta é tomada emprestada em E3, ela tem 70% de chance de ser devolvida em E1 e 30% de chance de ser devolvida em E2.\n",
    "\n",
    "Vamos supor que cada estação começa com 10 bicicletas, e que não há um limite máximo de bicicletas que podem ficar em cada estação.\n",
    "\n",
    "Gostaríamos de saber:\n",
    "\n",
    "(a) Após alguns dias de iterações aleatórias, quantas bicicletas esperamos encontrar em cada uma das estações?\n",
    "\n",
    "(b) Com esses dados inventados, vai ser necessário contratar caminhões para levar bicicletas de alguma estação para outra? Para quais?\n",
    "\n",
    "(c) Se, ao invés de começarmos nossas iterações com 10 bicicletas em cada estação, começarmos com todas as 30 bicicletas na estação E3, no topo do morro, devemos encontrar uma quantidade final de bicicletas diferente, ao fim de várias iterações?\n",
    "\n",
    "---"
   ]
  },
  {
   "cell_type": "code",
   "execution_count": null,
   "id": "acf58403",
   "metadata": {},
   "outputs": [
    {
     "name": "stdout",
     "output_type": "stream",
     "text": [
      "[[14.34733143]\n",
      " [13.54116885]\n",
      " [ 2.11149972]]\n",
      "[[14.3359374]\n",
      " [13.5519198]\n",
      " [ 2.1121428]]\n"
     ]
    }
   ],
   "source": [
    "import numpy as np\n",
    "x = np.array([[10], [10], [10]])\n",
    "A = np.array( [ [0, 0.9, 0.1], [0.95, 0, 0.05], [0.7, 0.3, 0]]).T\n",
    "x = A @ x\n",
    "\n",
    "# (a)\n",
    "for i in range(100):\n",
    "    x = A @ x\n",
    "\n",
    "print(x)\n",
    "\n",
    "# (b) - Precisaremos levar bicicletas das estações 1 e 2 para a estação 3.\n",
    "\n",
    "# (c)\n",
    "x = np.array([[0], [0], [30]])\n",
    "for i in range(100):\n",
    "    x = A @ x\n",
    "\n",
    "print(x) # O problema persiste."
   ]
  },
  {
   "cell_type": "markdown",
   "id": "3364b73b",
   "metadata": {},
   "source": [
    "\n",
    "Discussão sobre a solução:\n",
    "\n",
    "Sob um ponto de vista matemático, um ciclista aleatório parece se comportar de uma maneira muito parecida com um web-surfista aleatório! Reveja o capítulo de sistemas lineares para uma explicação sobre isso: estamos falando de $P(s_t=e_i) = \\sum_j P(s_t = i | s_{t-1}=j) P(s_{t-1}=e_j)$. Podemos representar nosso vetor de bicicletas como:\n",
    "\n",
    "$$\n",
    "x_0 = 30 \\begin{bmatrix} 1/3 \\\\ 1/3 \\\\ 1/3 \\end{bmatrix}\n",
    "$$\n",
    "\n",
    "e a matriz que representa as transições entre estações será a matriz $A$ de forma que $a[i,j]=P(s_t = i | s_{t-1}=j)$, isto é, a $a_{i,j}$ é a probabilidade de uma bicicleta ser deixada na estação $i$ sabendo que ela estava estação $j$:\n",
    "\n",
    "$$\n",
    "A = \\begin{bmatrix} \n",
    "    0 & 0.9 & 0.7 \\\\\n",
    "    0.95 & 0 & 0.3 \\\\\n",
    "    0.05 & 0.1 & 0 \n",
    "    \\end{bmatrix}\n",
    "$$\n",
    "\n"
   ]
  },
  {
   "cell_type": "code",
   "execution_count": 5,
   "id": "0b87f061",
   "metadata": {},
   "outputs": [
    {
     "name": "stdout",
     "output_type": "stream",
     "text": [
      "[[0.46634615]\n",
      " [0.46394231]\n",
      " [0.06971154]]\n"
     ]
    }
   ],
   "source": [
    "import numpy as np\n",
    "# Comecei com as matrizes já digitadas no código \n",
    "x = np.array([[1], [1], [1]])/3\n",
    "A = np.array( [ [0, 0.95, 0.05], [0.9, 0, 0.1], [0.7, 0.3, 0]]).T\n",
    "# um passo: x = A @ x\n",
    "# implemente 100 passos seguidos!\n",
    "for _ in range(1000):\n",
    "    x = A@x\n",
    "\n",
    "# Número de bicicletas por estação = # total de bicicletas * P(bicicleta por estação)\n",
    "print(x)"
   ]
  },
  {
   "cell_type": "code",
   "execution_count": null,
   "id": "664d669b",
   "metadata": {},
   "outputs": [],
   "source": []
  },
  {
   "cell_type": "markdown",
   "id": "f9e5fb6f",
   "metadata": {},
   "source": [
    "# Exercício 2\n",
    "**Objetivo: calcular auto-valores e auto-vetores usando pacotes Python**\n",
    "\n",
    "O problema das bicicletas de Montreal (assim como o PageRank e o problema dos carcarás do Capítulo 2) está ligado a uma característica de matrizes que é a existência de vetores e valores chamados de auto-valores e de auto-vetores. Quando um auto-vetor de uma matriz é multiplicado pela própria matriz, o resultado é um múltiplo do próprio vetor, isto é:\n",
    "\n",
    "$$\n",
    "Ax = x \\lambda,\n",
    "$$\n",
    "onde: $A$ é a matriz, $x$ é o auto-vetor e $\\lambda$ é o auto-valor correspondente.\n",
    "\n",
    "Por exemplo:\n",
    "\n",
    "$$\n",
    "\\begin{bmatrix} \n",
    "    2 & 0  \\\\\n",
    "    0 & 1 \n",
    "\\end{bmatrix}\n",
    "\\begin{bmatrix} \n",
    "    1 \\\\\n",
    "    0  \n",
    "\\end{bmatrix}\n",
    "= \n",
    "\\begin{bmatrix} \n",
    "    2 \\\\\n",
    "    0  \n",
    "\\end{bmatrix}\n",
    "=\n",
    "2\n",
    "\\begin{bmatrix} \n",
    "    1 \\\\\n",
    "    0  \n",
    "\\end{bmatrix},\n",
    "$$\n",
    "portanto $[1,0]^T$ é um auto-vetor de $[[2, 0],[0,1]]$, e $2$ é o auto-valor correspondente.\n",
    "\n",
    "Se tivermos algum vetor na mesma direção de $x$ mas multiplicado por algum número real $\\alpha$, isto é, $y=\\alpha x$, podemos manter a mesma equação:\n",
    "\n",
    "$$\n",
    "A \\alpha x = \\alpha x \\lambda \\rightarrow Ay = y \\lambda.\n",
    "$$\n",
    "\n",
    "a) No problema das bicicletas de Montreal, encontramos um auto-vetor da matriz $A$. Qual é esse auto-vetor, e qual é o auto-valor correspondente? \n",
    "\n",
    "Lembrando que:\n",
    "$$\n",
    "A = \\begin{bmatrix} \n",
    "    0 & 0.9 & 0.7 \\\\\n",
    "    0.95 & 0 & 0.3 \\\\\n",
    "    0.05 & 0.1 & 0 \n",
    "    \\end{bmatrix}\n",
    "$$\n",
    "\n",
    "b) A instrução `values, vectors = np.linalg.eig(A)` retorna os auto-vetores da matriz A na variável `values` e os auto-valores correspondentes na variável `vectors`. Use essa função para calcular os auto-valores e auto-vetores da matriz $A$ do problema das bicicletas de Montreal.\n"
   ]
  },
  {
   "cell_type": "code",
   "execution_count": 8,
   "id": "fcf219be",
   "metadata": {},
   "outputs": [
    {
     "name": "stdout",
     "output_type": "stream",
     "text": [
      "[ 1.         -0.91231056 -0.08768944] [[-0.70498394 -0.68507886 -0.19291753]\n",
      " [-0.70135     0.72724739 -0.5906272 ]\n",
      " [-0.1053842  -0.04216853  0.78354473]]\n"
     ]
    }
   ],
   "source": [
    "# Resolva seu exercício aqui\n",
    "A = np.array( [ [0, 0.95, 0.05], [0.9, 0, 0.1], [0.7, 0.3, 0]]).T\n",
    "\n",
    "# (a) Trata-se do vetor [[0.46634615]\n",
    "# [0.46394231]\n",
    "# [0.06971154]]\n",
    "# com autovalor 1.0\n",
    "\n",
    "# (b)\n",
    "values, vectors = np.linalg.eig(A)\n",
    "print(values, vectors)\n"
   ]
  },
  {
   "cell_type": "markdown",
   "id": "e26c90e0",
   "metadata": {},
   "source": [
    "# Exercício 3\n",
    "**Objetivo: auto-vetores e auto-valores como pontos de estabilidade, expansão, ou colapso**\n",
    "\n",
    " Vamos retomar o problema da população de carcarás e de sapos no Capítulo 2. Nesse problema, tínhamos a situação em que carcarás estão no mesmo habitat que sapos, obedecendo às seguintes regras:\n",
    "\n",
    "* A população de carcarás naturalmente cai em 20% a cada mês\n",
    "* Para cada cinco mil sapos existentes naquele mês, um novo carcará nasce\n",
    "* A população de sapos naturalmente sobe em 10% porque eles se reproduzem\n",
    "* A cada mês, cada carcará consegue comer 100 sapos\n",
    "\n",
    "Isso significa que podemos escrever equações para calcular o número de carcarás e de sapos a cada mês, tomando por base a quantidade deles no mês anterior:\n",
    "\n",
    "$$ \n",
    "\\begin{cases}\n",
    "    \\begin{aligned}\n",
    "    c_t & = 0.8 c_{t-1} + 0.2 s_{t-1} \\\\\n",
    "    s_t & = - 0.1 c_{t-1} + 1.1 s_{t-1} \\\\\n",
    "    \\end{aligned}\n",
    "\\end{cases}\n",
    "$$\n",
    "\n",
    "Podemos fazer esse cálculo usando a operação matricial:\n",
    "$$\n",
    "\\begin{bmatrix}\n",
    "    c_t \\\\\n",
    "    s_t \n",
    "\\end{bmatrix}\n",
    "=\n",
    "\\begin{bmatrix}\n",
    "    0.8 & 0.2\\\\\n",
    "    -0.1 & 1.1\n",
    "\\end{bmatrix} \n",
    "\\begin{bmatrix}\n",
    "    c_{t-1} \\\\\n",
    "    s_{t-1}\n",
    "\\end{bmatrix}\n",
    "$$\n",
    "\n",
    "Como já vimos, podemos calcular a dinâmica da população ao longo do tempo partindo, por exemplo, de 600 carcarás e 500 mil sapos:"
   ]
  },
  {
   "cell_type": "code",
   "execution_count": 9,
   "id": "4ff77ce8",
   "metadata": {},
   "outputs": [
    {
     "data": {
      "image/png": "[encoded data removed]",
      "text/plain": [
       "<Figure size 700x200 with 1 Axes>"
      ]
     },
     "metadata": {},
     "output_type": "display_data"
    }
   ],
   "source": [
    "import matplotlib.pyplot as plt\n",
    "A = np.array([[0.8, 0.2], [-0.1,  1.1]])\n",
    "x = np.array([[600], [500]])\n",
    "populacao_carcaras = []\n",
    "populacao_sapos = []\n",
    "for _ in range(1000):\n",
    "    populacao_carcaras.append(x[0,0])\n",
    "    populacao_sapos.append(x[1,0])\n",
    "    x = A @ x\n",
    "\n",
    "plt.figure(figsize=(7,2))\n",
    "plt.plot(populacao_carcaras, label='Carcarás')\n",
    "plt.plot(populacao_sapos, label='Sapos (* 1000)')\n",
    "plt.ylim([0,800])\n",
    "plt.ylabel('População')\n",
    "plt.xlabel('Semanas')\n",
    "plt.show()"
   ]
  },
  {
   "cell_type": "markdown",
   "id": "3ffcc3d8",
   "metadata": {},
   "source": [
    "a) Usando a função `np.linalg.eig`, encontre os auto-valores e auto-vetores da matriz que representa a dinâmica da população de carcarás e sapos. \n"
   ]
  },
  {
   "cell_type": "code",
   "execution_count": 12,
   "id": "bf1f7789",
   "metadata": {},
   "outputs": [
    {
     "name": "stdout",
     "output_type": "stream",
     "text": [
      "[0.9 1. ]\n",
      "[[-0.89442719 -0.70710678]\n",
      " [-0.4472136  -0.70710678]]\n"
     ]
    }
   ],
   "source": [
    "# Resolva seu exercício aqui\n",
    "values, vectors = np.linalg.eig(A)\n",
    "print(values)\n",
    "print(vectors)"
   ]
  },
  {
   "cell_type": "markdown",
   "id": "07f35d23",
   "metadata": {},
   "source": [
    "\n",
    "b) Qual é o auto-vetor correspondente ao auto-valor $1$?\n"
   ]
  },
  {
   "cell_type": "markdown",
   "id": "7b99325a",
   "metadata": {},
   "source": [
    "$$\\begin{bmatrix} -0.707 \\\\ -0.707 \\end{bmatrix}$$"
   ]
  },
  {
   "cell_type": "markdown",
   "id": "172cb817",
   "metadata": {},
   "source": [
    "\n",
    "c) Como esse auto-vetor corresponde à dinâmica de população que observamos ao simular o sistema?\n",
    "\n"
   ]
  },
  {
   "cell_type": "markdown",
   "id": "849366ed",
   "metadata": {},
   "source": [
    "O ponto de estabilidade está na direção desse vetor."
   ]
  },
  {
   "cell_type": "markdown",
   "id": "c05b9c76",
   "metadata": {},
   "source": [
    "\n",
    "\n",
    "d) O que acontece com o sistema se as condições iniciais forem iguais ao auto-vetor correspondente ao outro auto-valor?\n",
    "\n"
   ]
  },
  {
   "cell_type": "markdown",
   "id": "71988bb9",
   "metadata": {},
   "source": [
    "A população vai cair até chegar a zero.\n"
   ]
  },
  {
   "cell_type": "markdown",
   "id": "c858333d",
   "metadata": {},
   "source": [
    "\n",
    "\n",
    "e) Explique essa dinâmica usando o conceito de auto-valores e auto-vetores, isto é, a equação $Ax = x \\lambda$ onde $A$ é a matriz da dinâmica, $x$ é o auto-vetor e $\\lambda$ é o auto-valor correspondente."
   ]
  },
  {
   "cell_type": "markdown",
   "id": "113cecbc",
   "metadata": {},
   "source": [
    "Se inicializo meu sistema no ponto $x$ tal que $Ax = 0.9x$, então a cada iteração do sistema meus valores em $x$ são multiplicados por $0.9$, caido lentamente até chegar a zero."
   ]
  },
  {
   "cell_type": "markdown",
   "id": "ca9ca52d",
   "metadata": {},
   "source": [
    "# Exercício 4\n",
    "*Objetivo: encontrar uma matriz à partir de seus auto-valores e auto-vetores*\n",
    "\n",
    "Em algumas situações (por exemplo, quando estou montando essa lista de exercícios - mas, de forma mais geral, quando estamos projetando sistemas dinâmicos), gostaríamos de encontrar matrizes que têm os autovalores e autovetores que queremos. Para isso, vamos escrever a equação de autovetores e autovalores na forma matricial.\n",
    "\n",
    "Quando estamos falando de somente um auto-vetor, podemos escrever:\n",
    "\n",
    "$$\n",
    "Ax = x \\lambda\n",
    "$$\n",
    "\n",
    "Porém, se tivermos dois auto-vetores, e seus auto-valores correspondentes, temos na verdade um sistema:\n",
    "\n",
    "$$\n",
    "\\begin{cases}\n",
    "Ax_1 = x_1 \\lambda_1 \\\\\n",
    "Ax_2 = x_2 \\lambda_2 \n",
    "\\end{cases}\n",
    "$$\n",
    "\n",
    "Esse sistema pode ser escrito na forma de uma multiplicação matricial, se assumirmos que nossos auto-vetores são vetores-coluna:\n",
    "\n",
    "$$\n",
    "A \\begin{bmatrix} \\vert & \\vert \\\\ x_1 & x_2 \\\\ \\vert & \\vert \\end{bmatrix} = \\begin{bmatrix} \\vert & \\vert \\\\ x_1 & x_2 \\\\ \\vert & \\vert \\end{bmatrix} \\begin{bmatrix} \\lambda_1 & 0 \\\\ 0 & \\lambda_2 \\end{bmatrix} \n",
    "$$\n",
    "\n",
    "Multiplicando os dois lados da equação por $\\begin{bmatrix} \\vert & \\vert \\\\ x_1 & x_2 \\\\ \\vert & \\vert \\end{bmatrix}^{-1}$, ficamos com:\n",
    "\n",
    "$$\n",
    "A \\begin{bmatrix} \\vert & \\vert \\\\ x_1 & x_2 \\\\ \\vert & \\vert \\end{bmatrix}\\begin{bmatrix} \\vert & \\vert \\\\ x_1 & x_2 \\\\ \\vert & \\vert \\end{bmatrix}^{-1} = \\begin{bmatrix} \\vert & \\vert \\\\ x_1 & x_2 \\\\ \\vert & \\vert \\end{bmatrix} \\begin{bmatrix} \\lambda_1 & 0 \\\\ 0 & \\lambda_2 \\end{bmatrix} \\begin{bmatrix} \\vert & \\vert \\\\ x_1 & x_2 \\\\ \\vert & \\vert \\end{bmatrix}^{-1}\n",
    "$$\n",
    "\n",
    "e, portanto:\n",
    "$$\n",
    "A = \\begin{bmatrix} \\vert & \\vert \\\\ x_1 & x_2 \\\\ \\vert & \\vert \\end{bmatrix} \\begin{bmatrix} \\lambda_1 & 0 \\\\ 0 & \\lambda_2 \\end{bmatrix} \\begin{bmatrix} \\vert & \\vert \\\\ x_1 & x_2 \\\\ \\vert & \\vert \\end{bmatrix}^{-1}\n",
    "$$\n",
    "\n",
    "Por exemplo, se quiséssemos uma matriz cujos auto-valores são $0.7$ e $0.2$ e os auto-vetores correspondentes são $[1,0]^T$ e $[0.5, 0.5]^T$, então deveríamos calcular:\n",
    "\n",
    "$$\n",
    "A = \\begin{bmatrix} 1 & 0.5 \\\\ 0 & 0.5 \\end{bmatrix} \\begin{bmatrix} 0.7 & 0 \\\\ 0  & 0.2 \\end{bmatrix} \\begin{bmatrix} 1 & 0.5 \\\\ 0 & 0.5 \\end{bmatrix}^{-1}\n",
    "$$\n",
    "\n",
    "Encontre a matriz com autovetores $[1,0]^T$ e $[0.5, 0.5]^T$ e autovalores $0.7$ e $0.2$."
   ]
  },
  {
   "cell_type": "code",
   "execution_count": 13,
   "id": "cbc9658d",
   "metadata": {},
   "outputs": [
    {
     "name": "stdout",
     "output_type": "stream",
     "text": [
      "[[ 1.  -0.5]\n",
      " [ 0.   0.5]]\n"
     ]
    }
   ],
   "source": [
    "# Resolva seu exercício aqui\n",
    "\n",
    "P = np.array([[1,0], [0.5,0.5]]).T\n",
    "Q = np.diag([1,0.5])\n",
    "A = P @ Q @ np.linalg.inv(P)\n",
    "print(A)"
   ]
  },
  {
   "cell_type": "markdown",
   "id": "d7394c4e",
   "metadata": {},
   "source": [
    "# Exercício 5\n",
    "*Objetivo: relacionar autovalores ao colapso, explosão e ao equilíbrio de sistemas dinâmicos*\n",
    "\n",
    "Até o momento, usamos um vetor $v$ para representar o estado de sistemas - a quantidade de bicicletas nas estações em algum momento, a quantidade de animais em alguma semana, e assim por diante. Vamos chamar nossa condição inicial de $v_0$, significando o vetor de estados $v$ no tempo $0$ (e, portanto, $v_1$ é o estado após uma iteração, e $v_{223}$ é o estado após $223$ iterações).\n",
    "\n",
    "Quando aplicamos uma matriz sobre um vetor de estados qualquer $v_0$, isto é, quando damos um passo em nosso sistema dinâmico, temos a situação:\n",
    "\n",
    "$$\n",
    "v_1 = A v_{0}\n",
    "$$\n",
    "\n",
    "Podemos aplicar novamente a matriz sobre $v_1$, encontrando:\n",
    "$$\n",
    "v_2 = A v_1 = A A v_0 = A^2 v_0.\n",
    "$$\n",
    "\n",
    "E, ao longo de $N$ iterações, teremos:\n",
    "$$\n",
    "v_N = A^N v_0\n",
    "$$\n",
    "---\n",
    "\n",
    "Isso é  o que fizemos diversas vezes até este momento. Vamos agora re-escrever essa mesma equação na usando a forma de autovalores e autovetores. As passagens que seguem parecem um pouco longas porque as expressões são longas, mas são somente a consequência de trocar $A$ nas equações acima pela decomposição matricial:\n",
    "\n",
    "$$\n",
    "A = \\begin{bmatrix} \\vert & \\vert \\\\ x_1 & x_2 \\\\ \\vert & \\vert \\end{bmatrix} \\begin{bmatrix} \\lambda_1 & 0 \\\\ 0 & \\lambda_2 \\end{bmatrix} \\begin{bmatrix} \\vert & \\vert \\\\ x_1 & x_2 \\\\ \\vert & \\vert \\end{bmatrix}^{-1}\n",
    "$$\n",
    "\n",
    "Aplicando essa mudança na primeira expressão, temos:\n",
    "\n",
    "$$\n",
    "v_1 = A v_0 = \\begin{bmatrix} \\vert & \\vert \\\\ x_1 & x_2 \\\\ \\vert & \\vert \\end{bmatrix} \\begin{bmatrix} \\lambda_1 & 0 \\\\ 0 & \\lambda_2 \\end{bmatrix} \\begin{bmatrix} \\vert & \\vert \\\\ x_1 & x_2 \\\\ \\vert & \\vert \\end{bmatrix}^{-1} v_{0}\n",
    "$$\n",
    "\n",
    "Na segunda iteração, temos:\n",
    "\n",
    "$$\n",
    "v_2 = A v_1 = \\left( A \\right) A v_0 = \\left( \\begin{bmatrix} \\vert & \\vert \\\\ x_1 & x_2 \\\\ \\vert & \\vert \\end{bmatrix} \\begin{bmatrix} \\lambda_1 & 0 \\\\ 0 & \\lambda_2 \\end{bmatrix} \\begin{bmatrix} \\vert & \\vert \\\\ x_1 & x_2 \\\\ \\vert & \\vert \\end{bmatrix}^{-1} \\right) \\begin{bmatrix} \\vert & \\vert \\\\ x_1 & x_2 \\\\ \\vert & \\vert \\end{bmatrix} \\begin{bmatrix} \\lambda_1 & 0 \\\\ 0 & \\lambda_2 \\end{bmatrix} \\begin{bmatrix} \\vert & \\vert \\\\ x_1 & x_2 \\\\ \\vert & \\vert \\end{bmatrix}^{-1}v_0\n",
    "$$\n",
    "\n",
    "Veja que podemos simplificar a multiplicação $ \\begin{bmatrix} \\vert & \\vert \\\\ x_1 & x_2 \\\\ \\vert & \\vert \\end{bmatrix}^{-1} \\begin{bmatrix} \\vert & \\vert \\\\ x_1 & x_2 \\\\ \\vert & \\vert \\end{bmatrix}$ no meio da cadeia de multiplicações, já que ela é igual à identidade. Ficamos então com:\n",
    "\n",
    "$$\n",
    "v_2 = \\begin{bmatrix} \\vert & \\vert \\\\ x_1 & x_2 \\\\ \\vert & \\vert \\end{bmatrix} \\begin{bmatrix} \\lambda_1 & 0 \\\\ 0 & \\lambda_2 \\end{bmatrix} \\begin{bmatrix} \\lambda_1 & 0 \\\\ 0 & \\lambda_2 \\end{bmatrix} \\begin{bmatrix} \\vert & \\vert \\\\ x_1 & x_2 \\\\ \\vert & \\vert \\end{bmatrix}^{-1}v_0\n",
    "$$\n",
    "\n",
    "Podemos resumir a multiplicação matricial $\\begin{bmatrix} \\lambda_1 & 0 \\\\ 0 & \\lambda_2 \\end{bmatrix} \\begin{bmatrix} \\lambda_1 & 0 \\\\ 0 & \\lambda_2 \\end{bmatrix}$ como $\\begin{bmatrix} \\lambda_1 & 0 \\\\ 0 & \\lambda_2 \\end{bmatrix}^2$, ficando com:\n",
    "\n",
    "$$\n",
    "v_2 = \\begin{bmatrix} \\vert & \\vert \\\\ x_1 & x_2 \\\\ \\vert & \\vert \\end{bmatrix} \\begin{bmatrix} \\lambda_1 & 0 \\\\ 0 & \\lambda_2 \\end{bmatrix} ^2 \\begin{bmatrix} \\vert & \\vert \\\\ x_1 & x_2 \\\\ \\vert & \\vert \\end{bmatrix}^{-1}v_0\n",
    "$$\n",
    "\n",
    "Fazendo uma nova multiplicação por $A$, vamos encontrar:\n",
    "$$\n",
    "v_3 = \\left( A \\right) v_2 = \\left( \\begin{bmatrix} \\vert & \\vert \\\\ x_1 & x_2 \\\\ \\vert & \\vert \\end{bmatrix} \\begin{bmatrix} \\lambda_1 & 0 \\\\ 0 & \\lambda_2 \\end{bmatrix} \\begin{bmatrix} \\vert & \\vert \\\\ x_1 & x_2 \\\\ \\vert & \\vert \\end{bmatrix}^{-1} \\right) \\begin{bmatrix} \\vert & \\vert \\\\ x_1 & x_2 \\\\ \\vert & \\vert \\end{bmatrix} \\begin{bmatrix} \\lambda_1 & 0 \\\\ 0 & \\lambda_2 \\end{bmatrix} ^2 \\begin{bmatrix} \\vert & \\vert \\\\ x_1 & x_2 \\\\ \\vert & \\vert \\end{bmatrix}^{-1}v_0\n",
    "$$\n",
    "\n",
    "Novamente, podemos trocar a multiplicação matricial $ \\begin{bmatrix} \\vert & \\vert \\\\ x_1 & x_2 \\\\ \\vert & \\vert \\end{bmatrix}^{-1} \\begin{bmatrix} \\vert & \\vert \\\\ x_1 & x_2 \\\\ \\vert & \\vert \\end{bmatrix}$ pela identidade, e agrupar $\\begin{bmatrix} \\lambda_1 & 0 \\\\ 0 & \\lambda_2 \\end{bmatrix} \\begin{bmatrix} \\lambda_1 & 0 \\\\ 0 & \\lambda_2 \\end{bmatrix}^2$ como $\\begin{bmatrix} \\lambda_1 & 0 \\\\ 0 & \\lambda_2 \\end{bmatrix}^3$, ficando com:\n",
    "\n",
    "$$\n",
    "v_3 = \\begin{bmatrix} \\vert & \\vert \\\\ x_1 & x_2 \\\\ \\vert & \\vert \\end{bmatrix} \\begin{bmatrix} \\lambda_1 & 0 \\\\ 0 & \\lambda_2 \\end{bmatrix} ^3 \\begin{bmatrix} \\vert & \\vert \\\\ x_1 & x_2 \\\\ \\vert & \\vert \\end{bmatrix}^{-1} v_0\n",
    "$$\n",
    "\n",
    "Podemos fazer essa mesma operação $N$ vezes, ficando com:\n",
    "\n",
    "$$\n",
    "v_N = \\begin{bmatrix} \\vert & \\vert \\\\ x_1 & x_2 \\\\ \\vert & \\vert \\end{bmatrix} \\begin{bmatrix} \\lambda_1 & 0 \\\\ 0 & \\lambda_2 \\end{bmatrix} ^N \\begin{bmatrix} \\vert & \\vert \\\\ x_1 & x_2 \\\\ \\vert & \\vert \\end{bmatrix}^{-1} v_0\n",
    "$$\n",
    "\n",
    "Como $\\begin{bmatrix} \\lambda_1 & 0 \\\\ 0 & \\lambda_2 \\end{bmatrix} ^N = \\begin{bmatrix} \\lambda_1 ^N & 0 \\\\ 0 & \\lambda_2 ^N \\end{bmatrix}$, a expressão fica:\n",
    "\n",
    "$$\n",
    "v_N = \\begin{bmatrix} \\vert & \\vert \\\\ x_1 & x_2 \\\\ \\vert & \\vert \\end{bmatrix} \\begin{bmatrix} \\lambda_1^N & 0 \\\\ 0 & \\lambda_2^N \\end{bmatrix} \\begin{bmatrix} \\vert & \\vert \\\\ x_1 & x_2 \\\\ \\vert & \\vert \\end{bmatrix}^{-1} v_0\n",
    "$$\n",
    "\n",
    "---\n",
    "\n",
    "Veja que agora sabemos que:\n",
    "$$\n",
    "A^N = \\begin{bmatrix} \\vert & \\vert \\\\ x_1 & x_2 \\\\ \\vert & \\vert \\end{bmatrix} \\begin{bmatrix} \\lambda_1^N & 0 \\\\ 0 & \\lambda_2^N \\end{bmatrix} \\begin{bmatrix} \\vert & \\vert \\\\ x_1 & x_2 \\\\ \\vert & \\vert \\end{bmatrix}^{-1}\n",
    "$$ \n",
    "\n",
    "Usando valores à sua escolha e supondo que $A \\in \\mathbb{R}^{2\\times 2}$, monte exemplos que mostrem o que acontece com os valores de $A^N$ se:\n",
    "\n",
    "1. Todos os auto-valores forem positivos e menores que 1.\n",
    "2. Somente um auto-valor for igual a 1, e os demais forem positivos e menores que 1.\n",
    "3. Um dos auto-valores for maior que 1.\n",
    "4. Todos os auto-valores forem iguais a 1.\n",
    "5. Relacione as suas respostas anteriores aos conceitos de *explosão* (tender ao infinito ao longo de muitas iterações), *colapso* (tender a zero ao longo de muitas iterações) e *equilíbrio* (tender a um valor constante não-zero ao longo de muitas iteraçõees)."
   ]
  },
  {
   "cell_type": "code",
   "execution_count": 18,
   "id": "9669ea1b",
   "metadata": {},
   "outputs": [
    {
     "name": "stdout",
     "output_type": "stream",
     "text": [
      "[[-3.23447651e-13]\n",
      " [ 2.53530120e-67]]\n",
      "[[-1.00000000e+03]\n",
      " [ 1.57772181e-27]]\n",
      "[[-1.37806123e+07]\n",
      " [ 1.57772181e-27]]\n",
      "[[1000.]\n",
      " [2000.]]\n"
     ]
    }
   ],
   "source": [
    "S = np.array( [[1, 0], [0.5, 0.5]]).T # Provavelmente podemos resolver este exercício sem alterar isso.\n",
    "L = np.array( [ [0.7, 0], [0, 0.2] ]) # Você provavelmente quer alterar esta linha!\n",
    "\n",
    "# 1.\n",
    "A = S @ L @ np.linalg.inv(S)\n",
    "x = np.array([[1000], [2000]])\n",
    "for _ in range(100):\n",
    "    x = A @ x\n",
    "print(x)\n",
    "\n",
    "# 2.\n",
    "L = np.array( [ [1, 0], [0, 0.5] ])\n",
    "A = S @ L @ np.linalg.inv(S)\n",
    "x = np.array([[1000], [2000]])\n",
    "for _ in range(100):\n",
    "    x = A @ x\n",
    "print(x)\n",
    "\n",
    "# 3. \n",
    "L = np.array( [ [1.1, 0], [0, 0.5] ])\n",
    "A = S @ L @ np.linalg.inv(S)\n",
    "x = np.array([[1000], [2000]])\n",
    "for _ in range(100):\n",
    "    x = A @ x\n",
    "print(x)\n",
    "\n",
    "# 4.\n",
    "L = np.array( [ [1, 0], [0, 1] ])\n",
    "A = S @ L @ np.linalg.inv(S)\n",
    "x = np.array([[1000], [2000]])\n",
    "for _ in range(100):\n",
    "    x = A @ x\n",
    "print(x)\n",
    "\n",
    "# 5.\n",
    "# 1-Colapso | 2-Equilíbrio | 3-Explosão | 4-Equilíbrio"
   ]
  },
  {
   "cell_type": "markdown",
   "id": "8ca6dd18",
   "metadata": {},
   "source": [
    "# Exercício 6\n",
    "*Objetivo: relacionar colapso, explosão e equilíbrio situações práticas*\n",
    "\n",
    "Neste exercício, estamos buscando entender como podemos usar a equação que vimos acima:\n",
    "\n",
    "$$\n",
    "v_N = \\begin{bmatrix} x_1 & x_2 \\end{bmatrix} \\begin{bmatrix} \\lambda_1^N & 0 \\\\ 0 & \\lambda_2^N \\end{bmatrix} \\begin{bmatrix} x_1 & x_2 \\end{bmatrix}^{-1} v_0\n",
    "$$\n",
    "\n",
    "pode ser usada para encontrar comportamentos ao longo do tempo em sistemas dinâmicos."
   ]
  },
  {
   "cell_type": "markdown",
   "id": "1cc79df5",
   "metadata": {},
   "source": [
    "\n",
    "(a) Usando auto-valores e auto-vetores no caso da população de carcarás, justifique matematicamente o fato de que muito provavelmente a população deve tender a um equilíbrio ao longo de muitos meses. "
   ]
  },
  {
   "cell_type": "code",
   "execution_count": 20,
   "id": "4c87795d",
   "metadata": {},
   "outputs": [
    {
     "name": "stdout",
     "output_type": "stream",
     "text": [
      "[0.9 1. ]\n",
      "[[-0.89442719 -0.70710678]\n",
      " [-0.4472136  -0.70710678]]\n"
     ]
    }
   ],
   "source": [
    "A = np.array([[0.8, 0.2], [-0.1,  1.1]])\n",
    "valores, vetores = np.linalg.eig(A)\n",
    "print(valores)\n",
    "print(vetores)\n",
    "\n",
    "# Há somente um autovalor igual a 1 e os outros são menores que 1, então o sistema tende ao equilíbrio na direção do autovetor associado ao autovalor 1."
   ]
  },
  {
   "cell_type": "markdown",
   "id": "6856fe64",
   "metadata": {},
   "source": [
    "(b) Partindo do caso da população de carcarás, suponha a seguinte situação. A população local decidiu que existem muitos carcarás nas redondezas, e por isso autorizou a caça. Com isso, ao fim do mês, ao invés de morrerem 20% dos carcarás existentes, morrem 80% dos carcarás existentes. Use auto-valores e auto-vetores para prever se esse processo de caça será eficaz para conter a população de carcarás. Após, confirme seu resultado usando uma simulação."
   ]
  },
  {
   "cell_type": "code",
   "execution_count": 26,
   "id": "ec22fe37",
   "metadata": {},
   "outputs": [
    {
     "name": "stdout",
     "output_type": "stream",
     "text": [
      "[0.22279981 1.07720019]\n",
      "[[-0.99356476 -0.22229356]\n",
      " [-0.11326545 -0.97497978]]\n"
     ]
    },
    {
     "data": {
      "text/plain": [
       "Text(0.5, 0, 'Semanas')"
      ]
     },
     "execution_count": 26,
     "metadata": {},
     "output_type": "execute_result"
    },
    {
     "data": {
      "image/png": "[encoded data removed]",
      "text/plain": [
       "<Figure size 700x200 with 1 Axes>"
      ]
     },
     "metadata": {},
     "output_type": "display_data"
    }
   ],
   "source": [
    "# Resolva seu exercício aqui\n",
    "A = np.array([[0.2, 0.2], [-0.1,  1.1]])\n",
    "valores, vetores = np.linalg.eig(A)\n",
    "print(valores)\n",
    "print(vetores)\n",
    "\n",
    "# Haverá uma explosão no número de carcarás e sapos:\n",
    "x = np.array([[700], [500]])\n",
    "populacao_carcaras = []\n",
    "populacao_sapos = []\n",
    "for _ in range(100):\n",
    "    populacao_carcaras.append(x[0,0])\n",
    "    populacao_sapos.append(x[1,0])\n",
    "    x = A @ x\n",
    "plt.figure(figsize=(7,2))\n",
    "plt.plot(populacao_carcaras, label='Carcarás')\n",
    "plt.plot(populacao_sapos, label='Sapos (* 1000)')\n",
    "plt.ylim([0,8000])\n",
    "plt.ylabel('População')\n",
    "plt.xlabel('Semanas')\n"
   ]
  },
  {
   "cell_type": "markdown",
   "id": "052a6012",
   "metadata": {},
   "source": [
    "(c) Após a publicação de imagens chocantes sobre a caça dos carcarás, foram aprovadas leis de proteção e cuidado ambiental que fazem com que a mortalidade dos carcarás de um mês para o outro seja de apenas 19%. Usando auto-valores e auto-vetores, determine qual é o efeito dessa lei, a longo prazo, para as populações de carcarás e sapos na região."
   ]
  },
  {
   "cell_type": "code",
   "execution_count": 27,
   "id": "c915d706",
   "metadata": {},
   "outputs": [
    {
     "name": "stdout",
     "output_type": "stream",
     "text": [
      "[0.92298438 0.98701562]\n",
      "[[-0.87067303 -0.74882458]\n",
      " [-0.49186226 -0.66276824]]\n"
     ]
    },
    {
     "data": {
      "text/plain": [
       "Text(0.5, 0, 'Semanas')"
      ]
     },
     "execution_count": 27,
     "metadata": {},
     "output_type": "execute_result"
    },
    {
     "data": {
      "image/png": "[encoded data removed]",
      "text/plain": [
       "<Figure size 700x200 with 1 Axes>"
      ]
     },
     "metadata": {},
     "output_type": "display_data"
    }
   ],
   "source": [
    "# Resolva seu exercício aqui\n",
    "A = np.array([[0.81, 0.2], [-0.1,  1.1]])\n",
    "valores, vetores = np.linalg.eig(A)\n",
    "print(valores)\n",
    "print(vetores)\n",
    "\n",
    "# Todos os carcarás e sapos morrerão:\n",
    "x = np.array([[700], [500]])\n",
    "populacao_carcaras = []\n",
    "populacao_sapos = []\n",
    "for _ in range(100):\n",
    "    populacao_carcaras.append(x[0,0])\n",
    "    populacao_sapos.append(x[1,0])\n",
    "    x = A @ x\n",
    "plt.figure(figsize=(7,2))\n",
    "plt.plot(populacao_carcaras, label='Carcarás')\n",
    "plt.plot(populacao_sapos, label='Sapos (* 1000)')\n",
    "plt.ylim([0,8000])\n",
    "plt.ylabel('População')\n",
    "plt.xlabel('Semanas')\n"
   ]
  },
  {
   "cell_type": "code",
   "execution_count": null,
   "id": "693b8853",
   "metadata": {},
   "outputs": [],
   "source": []
  },
  {
   "cell_type": "markdown",
   "id": "ee44f2cf",
   "metadata": {},
   "source": [
    "\n"
   ]
  }
 ],
 "metadata": {
  "kernelspec": {
   "display_name": "alglin (3.13.2)",
   "language": "python",
   "name": "python3"
  },
  "language_info": {
   "codemirror_mode": {
    "name": "ipython",
    "version": 3
   },
   "file_extension": ".py",
   "mimetype": "text/x-python",
   "name": "python",
   "nbconvert_exporter": "python",
   "pygments_lexer": "ipython3",
   "version": "3.13.2"
  }
 },
 "nbformat": 4,
 "nbformat_minor": 5
}
