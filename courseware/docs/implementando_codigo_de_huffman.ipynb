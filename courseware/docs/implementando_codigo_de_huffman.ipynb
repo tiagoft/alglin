{
 "cells": [
  {
   "cell_type": "markdown",
   "id": "14fb740c",
   "metadata": {},
   "source": [
    "# Implementando Código de Huffman"
   ]
  },
  {
   "cell_type": "code",
   "execution_count": 219,
   "id": "cb9d1a37",
   "metadata": {},
   "outputs": [
    {
     "name": "stdout",
     "output_type": "stream",
     "text": [
      "1260554\n"
     ]
    }
   ],
   "source": [
    "import requests\n",
    "\n",
    "r = requests.get('https://www.gutenberg.org/cache/epub/2701/pg2701.txt')\n",
    "string_de_teste = r.text \n",
    "print(len(string_de_teste))\n",
    "\n",
    "\n",
    "# string_de_teste = \"BANANA\""
   ]
  },
  {
   "cell_type": "code",
   "execution_count": 138,
   "id": "bfbe5f15",
   "metadata": {},
   "outputs": [],
   "source": [
    "from pprint import pprint"
   ]
  },
  {
   "cell_type": "markdown",
   "id": "d63307ea",
   "metadata": {},
   "source": [
    "\n",
    "## Contar ocorrências únicas de cada caractere"
   ]
  },
  {
   "cell_type": "code",
   "execution_count": 139,
   "id": "d4c1d8f4",
   "metadata": {},
   "outputs": [],
   "source": [
    "def no_vazio():    \n",
    "    node = {\n",
    "        'conteudo' : None,\n",
    "        'filho_esquerdo' : None,\n",
    "        'filho_direito' : None\n",
    "    }\n",
    "    return node\n"
   ]
  },
  {
   "cell_type": "code",
   "execution_count": 140,
   "id": "482360e3",
   "metadata": {},
   "outputs": [],
   "source": [
    "def contar_ocorrencias_unicas(s : str):\n",
    "    caracteres_unicos = {}\n",
    "    for idx in range(len(s)):\n",
    "        if s[idx] in caracteres_unicos.keys():\n",
    "            caracteres_unicos[s[idx]] += 1\n",
    "        else:\n",
    "            caracteres_unicos[s[idx]] = 1\n",
    "    return caracteres_unicos"
   ]
  },
  {
   "cell_type": "code",
   "execution_count": 141,
   "id": "8bcb09b9",
   "metadata": {},
   "outputs": [],
   "source": [
    "ocorrencias = contar_ocorrencias_unicas(string_de_teste)"
   ]
  },
  {
   "cell_type": "markdown",
   "id": "5ad51728",
   "metadata": {},
   "source": [
    "## Ordenar símbolos únicos pela contagem"
   ]
  },
  {
   "cell_type": "code",
   "execution_count": 142,
   "id": "28788c13",
   "metadata": {},
   "outputs": [
    {
     "name": "stdout",
     "output_type": "stream",
     "text": [
      "[({'conteudo': ['\\ufeff'], 'filho_direito': None, 'filho_esquerdo': None}, 1),\n",
      " ({'conteudo': ['T'], 'filho_direito': None, 'filho_esquerdo': None}, 2370),\n",
      " ({'conteudo': ['h'], 'filho_direito': None, 'filho_esquerdo': None}, 62491),\n",
      " ({'conteudo': ['e'], 'filho_direito': None, 'filho_esquerdo': None}, 118528),\n",
      " ({'conteudo': [' '], 'filho_direito': None, 'filho_esquerdo': None}, 197842)]\n"
     ]
    }
   ],
   "source": [
    "def dict_to_tuple(d : dict):\n",
    "    list_of_tuples = []\n",
    "    for k in d.keys():\n",
    "        no = no_vazio()\n",
    "        no['conteudo'] = [k]\n",
    "        t = (no, d[k])\n",
    "        list_of_tuples.append(t)\n",
    "    return list_of_tuples\n",
    "\n",
    "tuplas_ocorrencias = dict_to_tuple(ocorrencias)\n",
    "pprint(tuplas_ocorrencias[:5])"
   ]
  },
  {
   "cell_type": "code",
   "execution_count": 143,
   "id": "27ad8b9b",
   "metadata": {},
   "outputs": [],
   "source": [
    "def get_count(t):\n",
    "    return t[1]\n",
    "\n",
    "\n",
    "tuplas_ordenadas = sorted(\n",
    "    tuplas_ocorrencias,\n",
    "    key=get_count,\n",
    ")\n"
   ]
  },
  {
   "cell_type": "code",
   "execution_count": 144,
   "id": "1839d203",
   "metadata": {},
   "outputs": [],
   "source": [
    "\n",
    "def remover_dois_elementos(lista_de_tuplas):\n",
    "    e1 = lista_de_tuplas[0]\n",
    "    e2 = lista_de_tuplas[1]\n",
    "    lista_de_tuplas_ = lista_de_tuplas[2:]\n",
    "    return e1, e2, lista_de_tuplas_\n",
    "\n",
    "e1, e2, lista_nova = remover_dois_elementos(tuplas_ordenadas)"
   ]
  },
  {
   "cell_type": "code",
   "execution_count": 145,
   "id": "37353c80",
   "metadata": {},
   "outputs": [],
   "source": [
    "def juntar_dois_elementos(e1, e2):\n",
    "    novo_conteudo = e1[0]['conteudo'] + e2[0]['conteudo']\n",
    "    no = no_vazio()\n",
    "    no['conteudo'] = novo_conteudo\n",
    "    no['filho_esquerdo'] = e1[0]\n",
    "    no['filho_direito']  = e2[0]\n",
    "    contagem = e1[1] + e2[1]\n",
    "    return (no, contagem)\n",
    "\n",
    "e_novo = juntar_dois_elementos(e1, e2)"
   ]
  },
  {
   "cell_type": "code",
   "execution_count": 146,
   "id": "0e71d969",
   "metadata": {},
   "outputs": [
    {
     "data": {
      "text/plain": [
       "({'conteudo': ['\\ufeff', '#'],\n",
       "  'filho_esquerdo': {'conteudo': ['\\ufeff'],\n",
       "   'filho_esquerdo': None,\n",
       "   'filho_direito': None},\n",
       "  'filho_direito': {'conteudo': ['#'],\n",
       "   'filho_esquerdo': None,\n",
       "   'filho_direito': None}},\n",
       " 2)"
      ]
     },
     "execution_count": 146,
     "metadata": {},
     "output_type": "execute_result"
    }
   ],
   "source": [
    "e_novo"
   ]
  },
  {
   "cell_type": "markdown",
   "id": "650feb4e",
   "metadata": {},
   "source": [
    "## Como representar uma árvore"
   ]
  },
  {
   "cell_type": "code",
   "execution_count": null,
   "id": "0b084647",
   "metadata": {},
   "outputs": [],
   "source": []
  },
  {
   "cell_type": "markdown",
   "id": "ea55dd88",
   "metadata": {},
   "source": []
  },
  {
   "cell_type": "code",
   "execution_count": 147,
   "id": "81ffa375",
   "metadata": {},
   "outputs": [
    {
     "name": "stdout",
     "output_type": "stream",
     "text": [
      "{'conteudo': ({'conteudo': ['\\ufeff', '#'],\n",
      "               'filho_direito': {'conteudo': ['#'],\n",
      "                                 'filho_direito': None,\n",
      "                                 'filho_esquerdo': None},\n",
      "               'filho_esquerdo': {'conteudo': ['\\ufeff'],\n",
      "                                  'filho_direito': None,\n",
      "                                  'filho_esquerdo': None}},\n",
      "              2),\n",
      " 'filho_direito': {'conteudo': ({'conteudo': ['#'],\n",
      "                                 'filho_direito': None,\n",
      "                                 'filho_esquerdo': None},\n",
      "                                1),\n",
      "                   'filho_direito': None,\n",
      "                   'filho_esquerdo': None},\n",
      " 'filho_esquerdo': {'conteudo': ({'conteudo': ['\\ufeff'],\n",
      "                                  'filho_direito': None,\n",
      "                                  'filho_esquerdo': None},\n",
      "                                 1),\n",
      "                    'filho_direito': None,\n",
      "                    'filho_esquerdo': None}}\n"
     ]
    }
   ],
   "source": [
    "no_pai = no_vazio()\n",
    "no_filho1 = no_vazio()\n",
    "no_filho2 = no_vazio()\n",
    "\n",
    "e_novo = juntar_dois_elementos(e1, e2)\n",
    "\n",
    "no_pai['conteudo'] = e_novo\n",
    "no_filho1['conteudo'] = e1\n",
    "no_filho2['conteudo'] = e2\n",
    "no_pai['filho_esquerdo'] = no_filho1\n",
    "no_pai['filho_direito'] = no_filho2\n",
    "\n",
    "pprint(no_pai)"
   ]
  },
  {
   "cell_type": "code",
   "execution_count": 151,
   "id": "cf349ccd",
   "metadata": {},
   "outputs": [
    {
     "name": "stdout",
     "output_type": "stream",
     "text": [
      "({'conteudo': ['\\ufeff', '#'],\n",
      "  'filho_direito': {'conteudo': ['#'],\n",
      "                    'filho_direito': None,\n",
      "                    'filho_esquerdo': None},\n",
      "  'filho_esquerdo': {'conteudo': ['\\ufeff'],\n",
      "                     'filho_direito': None,\n",
      "                     'filho_esquerdo': None}},\n",
      " 2)\n"
     ]
    }
   ],
   "source": [
    "\n",
    "# Ok, vamos tentar fazer em um loop\n",
    "\n",
    "\n",
    "nos_existentes = {}\n",
    "\n",
    "ocorrencias = contar_ocorrencias_unicas(string_de_teste)\n",
    "tuplas_ocorrencias = dict_to_tuple(ocorrencias)\n",
    "tuplas_ordenadas = sorted(\n",
    "    tuplas_ocorrencias,\n",
    "    key=get_count,\n",
    ")\n",
    "e1, e2, lista_nova = remover_dois_elementos(tuplas_ordenadas)\n",
    "e_novo = juntar_dois_elementos(e1, e2)\n",
    "lista_nova.append(e_novo)\n",
    "\n",
    "e_novo = juntar_dois_elementos(e1, e2)\n",
    "no_pai = e_novo\n",
    "\n",
    "pprint(no_pai)\n",
    "\n"
   ]
  },
  {
   "cell_type": "code",
   "execution_count": 152,
   "id": "29e1e40a",
   "metadata": {},
   "outputs": [
    {
     "name": "stdout",
     "output_type": "stream",
     "text": [
      "({'conteudo': ['\\u200f', 'ח'],\n",
      "  'filho_direito': {'conteudo': ['ח'],\n",
      "                    'filho_direito': None,\n",
      "                    'filho_esquerdo': None},\n",
      "  'filho_esquerdo': {'conteudo': ['\\u200f'],\n",
      "                     'filho_direito': None,\n",
      "                     'filho_esquerdo': None}},\n",
      " 2)\n"
     ]
    }
   ],
   "source": [
    "tuplas_ordenadas = sorted(\n",
    "    tuplas_ocorrencias,\n",
    "    key=get_count,\n",
    ")\n",
    "\n",
    "e1, e2, lista_nova2 = remover_dois_elementos(lista_nova)\n",
    "e_novo = juntar_dois_elementos(e1, e2)\n",
    "no_pai = e_novo\n",
    "\n",
    "\n",
    "pprint(no_pai)\n",
    "\n"
   ]
  },
  {
   "cell_type": "code",
   "execution_count": 159,
   "id": "7f554957",
   "metadata": {},
   "outputs": [],
   "source": [
    "def arvore_de_huffman(s : str):\n",
    "    ocorrencias = contar_ocorrencias_unicas(s)\n",
    "    tuplas = dict_to_tuple(ocorrencias)\n",
    "    while len(tuplas) > 1:\n",
    "        tuplas = sorted(\n",
    "            tuplas,\n",
    "            key=get_count,\n",
    "        )\n",
    "        e1, e2, tuplas = remover_dois_elementos(tuplas)\n",
    "        e_novo = juntar_dois_elementos(e1, e2)\n",
    "        tuplas.append(e_novo)\n",
    "    return e_novo"
   ]
  },
  {
   "cell_type": "code",
   "execution_count": 165,
   "id": "06f2949a",
   "metadata": {},
   "outputs": [],
   "source": [
    "bananeira = arvore_de_huffman(\"BANANA\")"
   ]
  },
  {
   "cell_type": "code",
   "execution_count": 192,
   "id": "8545a4f6",
   "metadata": {},
   "outputs": [],
   "source": [
    "def codificar(no_pai, c):\n",
    "\n",
    "    if no_pai['filho_esquerdo'] is None:\n",
    "        codigo = ''\n",
    "    elif c in no_pai['filho_esquerdo']['conteudo']:\n",
    "        codigo = '1' + codificar(no_pai['filho_esquerdo'], c)\n",
    "    elif c in no_pai['filho_direito']['conteudo']:\n",
    "        codigo = '0' + codificar(no_pai['filho_direito'], c)\n",
    "    return codigo\n",
    "\n",
    "def codificar_string(no_pai, s):\n",
    "    codigo = ''\n",
    "    for c in s:\n",
    "        codigo = codigo + codificar(no_pai, c)\n",
    "    return codigo"
   ]
  },
  {
   "cell_type": "code",
   "execution_count": 193,
   "id": "a68d8ac6",
   "metadata": {},
   "outputs": [
    {
     "name": "stdout",
     "output_type": "stream",
     "text": [
      "{'conteudo': ['A', 'B', 'N'],\n",
      " 'filho_direito': {'conteudo': ['B', 'N'],\n",
      "                   'filho_direito': {'conteudo': ['N'],\n",
      "                                     'filho_direito': None,\n",
      "                                     'filho_esquerdo': None},\n",
      "                   'filho_esquerdo': {'conteudo': ['B'],\n",
      "                                      'filho_direito': None,\n",
      "                                      'filho_esquerdo': None}},\n",
      " 'filho_esquerdo': {'conteudo': ['A'],\n",
      "                    'filho_direito': None,\n",
      "                    'filho_esquerdo': None}}\n"
     ]
    }
   ],
   "source": [
    "pprint(bananeira[0])"
   ]
  },
  {
   "cell_type": "code",
   "execution_count": 199,
   "id": "ade73977",
   "metadata": {},
   "outputs": [
    {
     "data": {
      "text/plain": [
       "'011001001'"
      ]
     },
     "execution_count": 199,
     "metadata": {},
     "output_type": "execute_result"
    }
   ],
   "source": [
    "codificar_string(bananeira[0], 'BANANA')"
   ]
  },
  {
   "cell_type": "code",
   "execution_count": 216,
   "id": "76ca9883",
   "metadata": {},
   "outputs": [],
   "source": [
    "def decodificar_string(no_pai, s_cod):\n",
    "    no_atual = no_pai\n",
    "    saida = ''\n",
    "    for i in range(len(s_cod)):\n",
    "        if s_cod[i] == '1':\n",
    "            no_atual = no_atual['filho_esquerdo']\n",
    "        elif s_cod[i] == '0':\n",
    "            no_atual = no_atual['filho_direito']        \n",
    "        if no_atual['filho_esquerdo'] is None:\n",
    "            saida = saida + no_atual['conteudo'][0]\n",
    "            no_atual = no_pai\n",
    "    return saida"
   ]
  },
  {
   "cell_type": "code",
   "execution_count": null,
   "id": "b3a84ad2",
   "metadata": {},
   "outputs": [],
   "source": []
  },
  {
   "cell_type": "code",
   "execution_count": 217,
   "id": "4dd84bbc",
   "metadata": {},
   "outputs": [
    {
     "name": "stdout",
     "output_type": "stream",
     "text": [
      "011001001\n"
     ]
    }
   ],
   "source": [
    "codigo = codificar_string(bananeira[0], 'BANANA')\n",
    "print(codigo)"
   ]
  },
  {
   "cell_type": "code",
   "execution_count": 218,
   "id": "6532c312",
   "metadata": {},
   "outputs": [
    {
     "data": {
      "text/plain": [
       "'BANANA'"
      ]
     },
     "execution_count": 218,
     "metadata": {},
     "output_type": "execute_result"
    }
   ],
   "source": [
    "decodificacao = decodificar_string(bananeira[0], codigo)\n",
    "decodificacao"
   ]
  },
  {
   "cell_type": "code",
   "execution_count": null,
   "id": "3116772d",
   "metadata": {},
   "outputs": [],
   "source": []
  },
  {
   "cell_type": "code",
   "execution_count": 221,
   "id": "40d06555",
   "metadata": {},
   "outputs": [],
   "source": [
    "arvore = arvore_de_huffman(string_de_teste)[0]\n",
    "codigo = codificar_string(arvore, string_de_teste)\n",
    "recuperado = decodificar_string(arvore, codigo)"
   ]
  },
  {
   "cell_type": "code",
   "execution_count": 226,
   "id": "f3ca8648",
   "metadata": {},
   "outputs": [
    {
     "data": {
      "text/plain": [
       "0.5721397100005235"
      ]
     },
     "execution_count": 226,
     "metadata": {},
     "output_type": "execute_result"
    }
   ],
   "source": [
    "tamanho_original = len(string_de_teste)\n",
    "tamanho_comprimido = len(codigo)//8\n",
    "\n",
    "tamanho_comprimido / tamanho_original"
   ]
  },
  {
   "cell_type": "code",
   "execution_count": null,
   "id": "64400fdf",
   "metadata": {},
   "outputs": [],
   "source": []
  }
 ],
 "metadata": {
  "kernelspec": {
   "display_name": "alglin (3.13.2)",
   "language": "python",
   "name": "python3"
  },
  "language_info": {
   "codemirror_mode": {
    "name": "ipython",
    "version": 3
   },
   "file_extension": ".py",
   "mimetype": "text/x-python",
   "name": "python",
   "nbconvert_exporter": "python",
   "pygments_lexer": "ipython3",
   "version": "3.13.2"
  }
 },
 "nbformat": 4,
 "nbformat_minor": 5
}
